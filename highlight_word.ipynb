{
 "cells": [
  {
   "cell_type": "code",
   "execution_count": 1,
   "id": "062780dd",
   "metadata": {},
   "outputs": [
    {
     "name": "stderr",
     "output_type": "stream",
     "text": [
      "/tmp/ipykernel_3817389/3962767863.py:11: DeprecationWarning: Importing display from IPython.core.display is deprecated since IPython 7.14, please import from IPython display\n",
      "  from IPython.core.display import display, HTML\n"
     ]
    }
   ],
   "source": [
    "import os\n",
    "import json\n",
    "import pandas as pd\n",
    "\n",
    "import difflib\n",
    "import nltk\n",
    "import re\n",
    "\n",
    "from rouge_s import py_rouge_scores\n",
    "from bert_score import score\n",
    "from IPython.core.display import display, HTML\n",
    "\n",
    "%matplotlib inline"
   ]
  },
  {
   "cell_type": "code",
   "execution_count": 77,
   "id": "329f21a7",
   "metadata": {},
   "outputs": [],
   "source": [
    "name_method = {1: '1_bart_noprompt', 2: '2_bart_topic', 3: '3_bart_length', \n",
    "               4: '4_bart_topic_length', 5: '5_bart_contrastive_random', 6: '6_bart_contrastive_synonym',\n",
    "               7: '7_bart_contrastive_combine', 8: '8_bart_contrastive_combine_word_tagger_dialog', 9: '9_bart_contrastive_combine_prompt_tagger_dialog',\n",
    "               10: '5_bart_contrastive_random_negative', 11: '6_bart_contrastive_synonym_positive', 12: '7_bart_contrastive_combine_pos_neg',\n",
    "               13: '4_bart_topic_length_word_tagger', 14: '4_bart_topic_length_prompt_tagger'}"
   ]
  },
  {
   "cell_type": "code",
   "execution_count": 78,
   "id": "d7db8665",
   "metadata": {},
   "outputs": [],
   "source": [
    "total_method = 14\n",
    "\n",
    "list_method = list(range(1 ,total_method + 1))"
   ]
  },
  {
   "cell_type": "code",
   "execution_count": 79,
   "id": "efd796ad-1a77-4fa2-9850-1d51c64d86d9",
   "metadata": {},
   "outputs": [],
   "source": [
    "gold_summary_file = './dataset.xlsx'"
   ]
  },
  {
   "cell_type": "code",
   "execution_count": 80,
   "id": "3a869469",
   "metadata": {},
   "outputs": [],
   "source": [
    "gold_summary_df = pd.read_excel(gold_summary_file, index_col=0)"
   ]
  },
  {
   "cell_type": "code",
   "execution_count": 81,
   "id": "3e342c33",
   "metadata": {},
   "outputs": [
    {
     "data": {
      "text/html": [
       "<div>\n",
       "<style scoped>\n",
       "    .dataframe tbody tr th:only-of-type {\n",
       "        vertical-align: middle;\n",
       "    }\n",
       "\n",
       "    .dataframe tbody tr th {\n",
       "        vertical-align: top;\n",
       "    }\n",
       "\n",
       "    .dataframe thead th {\n",
       "        text-align: right;\n",
       "    }\n",
       "</style>\n",
       "<table border=\"1\" class=\"dataframe\">\n",
       "  <thead>\n",
       "    <tr style=\"text-align: right;\">\n",
       "      <th></th>\n",
       "      <th>fname</th>\n",
       "      <th>dialogue</th>\n",
       "      <th>summary1</th>\n",
       "      <th>summary2</th>\n",
       "      <th>summary3</th>\n",
       "      <th>topic1</th>\n",
       "      <th>topic2</th>\n",
       "      <th>topic3</th>\n",
       "    </tr>\n",
       "  </thead>\n",
       "  <tbody>\n",
       "    <tr>\n",
       "      <th>0</th>\n",
       "      <td>test_0</td>\n",
       "      <td>#Person1#: Ms. Dawson, I need you to take a di...</td>\n",
       "      <td>Ms. Dawson helps #Person1# to write a memo to ...</td>\n",
       "      <td>In order to prevent employees from wasting tim...</td>\n",
       "      <td>Ms. Dawson takes a dictation for #Person1# abo...</td>\n",
       "      <td>communication method</td>\n",
       "      <td>company policy</td>\n",
       "      <td>dictation</td>\n",
       "    </tr>\n",
       "    <tr>\n",
       "      <th>1</th>\n",
       "      <td>test_1</td>\n",
       "      <td>#Person1#: You're finally here! What took so l...</td>\n",
       "      <td>#Person2# arrives late because of traffic jam....</td>\n",
       "      <td>#Person2# decides to follow #Person1#'s sugges...</td>\n",
       "      <td>#Person2# complains to #Person1# about the tra...</td>\n",
       "      <td>public transportation</td>\n",
       "      <td>transportation</td>\n",
       "      <td>discuss transportation</td>\n",
       "    </tr>\n",
       "    <tr>\n",
       "      <th>2</th>\n",
       "      <td>test_2</td>\n",
       "      <td>#Person1#: Kate, you never believe what's happ...</td>\n",
       "      <td>#Person1# tells Kate that Masha and Hero get d...</td>\n",
       "      <td>#Person1# tells Kate that Masha and Hero are g...</td>\n",
       "      <td>#Person1# and Kate talk about the divorce betw...</td>\n",
       "      <td>divorce</td>\n",
       "      <td>divorce</td>\n",
       "      <td>discuss divorce</td>\n",
       "    </tr>\n",
       "    <tr>\n",
       "      <th>3</th>\n",
       "      <td>test_3</td>\n",
       "      <td>#Person1#: Happy Birthday, this is for you, Br...</td>\n",
       "      <td>#Person1# and Brian are at the birthday party ...</td>\n",
       "      <td>#Person1# attends Brian's birthday party. Bria...</td>\n",
       "      <td>#Person1# has a dance with Brian at Brian's bi...</td>\n",
       "      <td>birthday party</td>\n",
       "      <td>birthday party</td>\n",
       "      <td>birthday party</td>\n",
       "    </tr>\n",
       "    <tr>\n",
       "      <th>4</th>\n",
       "      <td>test_4</td>\n",
       "      <td>#Person1#: This Olympic park is so big!\\n#Pers...</td>\n",
       "      <td>#Person1# is surprised at the Olympic Stadium'...</td>\n",
       "      <td>#Person2# shows #Person1# around the construct...</td>\n",
       "      <td>#Person2# introduces the Olympic Stadium's fin...</td>\n",
       "      <td>Olympic Stadium</td>\n",
       "      <td>sports stadium</td>\n",
       "      <td>Olympic Stadium</td>\n",
       "    </tr>\n",
       "  </tbody>\n",
       "</table>\n",
       "</div>"
      ],
      "text/plain": [
       "    fname                                           dialogue  \\\n",
       "0  test_0  #Person1#: Ms. Dawson, I need you to take a di...   \n",
       "1  test_1  #Person1#: You're finally here! What took so l...   \n",
       "2  test_2  #Person1#: Kate, you never believe what's happ...   \n",
       "3  test_3  #Person1#: Happy Birthday, this is for you, Br...   \n",
       "4  test_4  #Person1#: This Olympic park is so big!\\n#Pers...   \n",
       "\n",
       "                                            summary1  \\\n",
       "0  Ms. Dawson helps #Person1# to write a memo to ...   \n",
       "1  #Person2# arrives late because of traffic jam....   \n",
       "2  #Person1# tells Kate that Masha and Hero get d...   \n",
       "3  #Person1# and Brian are at the birthday party ...   \n",
       "4  #Person1# is surprised at the Olympic Stadium'...   \n",
       "\n",
       "                                            summary2  \\\n",
       "0  In order to prevent employees from wasting tim...   \n",
       "1  #Person2# decides to follow #Person1#'s sugges...   \n",
       "2  #Person1# tells Kate that Masha and Hero are g...   \n",
       "3  #Person1# attends Brian's birthday party. Bria...   \n",
       "4  #Person2# shows #Person1# around the construct...   \n",
       "\n",
       "                                            summary3                 topic1  \\\n",
       "0  Ms. Dawson takes a dictation for #Person1# abo...   communication method   \n",
       "1  #Person2# complains to #Person1# about the tra...  public transportation   \n",
       "2  #Person1# and Kate talk about the divorce betw...                divorce   \n",
       "3  #Person1# has a dance with Brian at Brian's bi...         birthday party   \n",
       "4  #Person2# introduces the Olympic Stadium's fin...        Olympic Stadium   \n",
       "\n",
       "           topic2                  topic3  \n",
       "0  company policy               dictation  \n",
       "1  transportation  discuss transportation  \n",
       "2         divorce         discuss divorce  \n",
       "3  birthday party          birthday party  \n",
       "4  sports stadium         Olympic Stadium  "
      ]
     },
     "execution_count": 81,
     "metadata": {},
     "output_type": "execute_result"
    }
   ],
   "source": [
    "gold_summary_df.head()"
   ]
  },
  {
   "cell_type": "code",
   "execution_count": 82,
   "id": "f76df227-4527-4820-b251-ed832e33b432",
   "metadata": {},
   "outputs": [],
   "source": [
    "result_summary_file = './result.xlsx'"
   ]
  },
  {
   "cell_type": "code",
   "execution_count": 83,
   "id": "dc883800",
   "metadata": {},
   "outputs": [],
   "source": [
    "result_all_df = {}\n",
    "for i in list(range(0 ,total_method)):\n",
    "    result_df = pd.read_excel(result_summary_file, sheet_name=i, index_col=0)\n",
    "    result_all_df[i+1] = result_df"
   ]
  },
  {
   "cell_type": "code",
   "execution_count": 84,
   "id": "dc9437b2",
   "metadata": {},
   "outputs": [
    {
     "data": {
      "text/html": [
       "<div>\n",
       "<style scoped>\n",
       "    .dataframe tbody tr th:only-of-type {\n",
       "        vertical-align: middle;\n",
       "    }\n",
       "\n",
       "    .dataframe tbody tr th {\n",
       "        vertical-align: top;\n",
       "    }\n",
       "\n",
       "    .dataframe thead th {\n",
       "        text-align: right;\n",
       "    }\n",
       "</style>\n",
       "<table border=\"1\" class=\"dataframe\">\n",
       "  <thead>\n",
       "    <tr style=\"text-align: right;\">\n",
       "      <th></th>\n",
       "      <th>fname</th>\n",
       "      <th>gen_summary1</th>\n",
       "      <th>gen_summary2</th>\n",
       "      <th>gen_summary3</th>\n",
       "      <th>gen1_rouge_1</th>\n",
       "      <th>gen1_rouge_2</th>\n",
       "      <th>gen1_rouge_l</th>\n",
       "      <th>gen1_bert_score</th>\n",
       "      <th>gen1_gold_length</th>\n",
       "      <th>gen1_gen_length</th>\n",
       "      <th>...</th>\n",
       "      <th>gen2_gold_length</th>\n",
       "      <th>gen2_gen_length</th>\n",
       "      <th>gen2_diff_length</th>\n",
       "      <th>gen3_rouge_1</th>\n",
       "      <th>gen3_rouge_2</th>\n",
       "      <th>gen3_rouge_l</th>\n",
       "      <th>gen3_bert_score</th>\n",
       "      <th>gen3_gold_length</th>\n",
       "      <th>gen3_gen_length</th>\n",
       "      <th>gen3_diff_length</th>\n",
       "    </tr>\n",
       "  </thead>\n",
       "  <tbody>\n",
       "    <tr>\n",
       "      <th>0</th>\n",
       "      <td>test_0</td>\n",
       "      <td>#Person1# asks Ms. Dawson to take a dictation ...</td>\n",
       "      <td>#Person1# asks Ms. Dawson to take a dictation ...</td>\n",
       "      <td>#Person1# asks Ms. Dawson to take a dictation ...</td>\n",
       "      <td>0.350000</td>\n",
       "      <td>0.051282</td>\n",
       "      <td>0.317362</td>\n",
       "      <td>0.891681</td>\n",
       "      <td>27</td>\n",
       "      <td>53</td>\n",
       "      <td>...</td>\n",
       "      <td>36</td>\n",
       "      <td>53</td>\n",
       "      <td>17</td>\n",
       "      <td>0.425000</td>\n",
       "      <td>0.230769</td>\n",
       "      <td>0.394919</td>\n",
       "      <td>0.884799</td>\n",
       "      <td>27</td>\n",
       "      <td>53</td>\n",
       "      <td>26</td>\n",
       "    </tr>\n",
       "    <tr>\n",
       "      <th>1</th>\n",
       "      <td>test_1</td>\n",
       "      <td>#Person2# got stuck in traffic again. #Person1...</td>\n",
       "      <td>#Person2# got stuck in traffic again. #Person1...</td>\n",
       "      <td>#Person2# got stuck in traffic again. #Person1...</td>\n",
       "      <td>0.400000</td>\n",
       "      <td>0.052632</td>\n",
       "      <td>0.466322</td>\n",
       "      <td>0.910078</td>\n",
       "      <td>22</td>\n",
       "      <td>18</td>\n",
       "      <td>...</td>\n",
       "      <td>18</td>\n",
       "      <td>18</td>\n",
       "      <td>0</td>\n",
       "      <td>0.514286</td>\n",
       "      <td>0.181818</td>\n",
       "      <td>0.466024</td>\n",
       "      <td>0.919479</td>\n",
       "      <td>17</td>\n",
       "      <td>18</td>\n",
       "      <td>1</td>\n",
       "    </tr>\n",
       "    <tr>\n",
       "      <th>2</th>\n",
       "      <td>test_2</td>\n",
       "      <td>#Person1# tells Kate that Masha and Hero are g...</td>\n",
       "      <td>#Person1# tells Kate that Masha and Hero are g...</td>\n",
       "      <td>#Person1# tells Kate that Masha and Hero are g...</td>\n",
       "      <td>0.871795</td>\n",
       "      <td>0.702703</td>\n",
       "      <td>0.892000</td>\n",
       "      <td>0.971663</td>\n",
       "      <td>19</td>\n",
       "      <td>20</td>\n",
       "      <td>...</td>\n",
       "      <td>20</td>\n",
       "      <td>20</td>\n",
       "      <td>0</td>\n",
       "      <td>0.634146</td>\n",
       "      <td>0.205128</td>\n",
       "      <td>0.549823</td>\n",
       "      <td>0.936697</td>\n",
       "      <td>21</td>\n",
       "      <td>20</td>\n",
       "      <td>-1</td>\n",
       "    </tr>\n",
       "    <tr>\n",
       "      <th>3</th>\n",
       "      <td>test_3</td>\n",
       "      <td>#Person1# celebrates Brian's birthday and danc...</td>\n",
       "      <td>#Person1# celebrates Brian's birthday and danc...</td>\n",
       "      <td>#Person1# celebrates Brian's birthday and danc...</td>\n",
       "      <td>0.342857</td>\n",
       "      <td>0.000000</td>\n",
       "      <td>0.292332</td>\n",
       "      <td>0.903291</td>\n",
       "      <td>18</td>\n",
       "      <td>15</td>\n",
       "      <td>...</td>\n",
       "      <td>12</td>\n",
       "      <td>15</td>\n",
       "      <td>3</td>\n",
       "      <td>0.555556</td>\n",
       "      <td>0.176471</td>\n",
       "      <td>0.343960</td>\n",
       "      <td>0.919318</td>\n",
       "      <td>18</td>\n",
       "      <td>15</td>\n",
       "      <td>-3</td>\n",
       "    </tr>\n",
       "    <tr>\n",
       "      <th>4</th>\n",
       "      <td>test_4</td>\n",
       "      <td>#Person1# and #Person2# are in the Olympic sta...</td>\n",
       "      <td>#Person1# and #Person2# are in the Olympic sta...</td>\n",
       "      <td>#Person1# and #Person2# are in the Olympic sta...</td>\n",
       "      <td>0.344828</td>\n",
       "      <td>0.148148</td>\n",
       "      <td>0.411817</td>\n",
       "      <td>0.899916</td>\n",
       "      <td>13</td>\n",
       "      <td>15</td>\n",
       "      <td>...</td>\n",
       "      <td>12</td>\n",
       "      <td>15</td>\n",
       "      <td>3</td>\n",
       "      <td>0.413793</td>\n",
       "      <td>0.148148</td>\n",
       "      <td>0.411817</td>\n",
       "      <td>0.904353</td>\n",
       "      <td>13</td>\n",
       "      <td>15</td>\n",
       "      <td>2</td>\n",
       "    </tr>\n",
       "  </tbody>\n",
       "</table>\n",
       "<p>5 rows × 25 columns</p>\n",
       "</div>"
      ],
      "text/plain": [
       "    fname                                       gen_summary1  \\\n",
       "0  test_0  #Person1# asks Ms. Dawson to take a dictation ...   \n",
       "1  test_1  #Person2# got stuck in traffic again. #Person1...   \n",
       "2  test_2  #Person1# tells Kate that Masha and Hero are g...   \n",
       "3  test_3  #Person1# celebrates Brian's birthday and danc...   \n",
       "4  test_4  #Person1# and #Person2# are in the Olympic sta...   \n",
       "\n",
       "                                        gen_summary2  \\\n",
       "0  #Person1# asks Ms. Dawson to take a dictation ...   \n",
       "1  #Person2# got stuck in traffic again. #Person1...   \n",
       "2  #Person1# tells Kate that Masha and Hero are g...   \n",
       "3  #Person1# celebrates Brian's birthday and danc...   \n",
       "4  #Person1# and #Person2# are in the Olympic sta...   \n",
       "\n",
       "                                        gen_summary3  gen1_rouge_1  \\\n",
       "0  #Person1# asks Ms. Dawson to take a dictation ...      0.350000   \n",
       "1  #Person2# got stuck in traffic again. #Person1...      0.400000   \n",
       "2  #Person1# tells Kate that Masha and Hero are g...      0.871795   \n",
       "3  #Person1# celebrates Brian's birthday and danc...      0.342857   \n",
       "4  #Person1# and #Person2# are in the Olympic sta...      0.344828   \n",
       "\n",
       "   gen1_rouge_2  gen1_rouge_l  gen1_bert_score  gen1_gold_length  \\\n",
       "0      0.051282      0.317362         0.891681                27   \n",
       "1      0.052632      0.466322         0.910078                22   \n",
       "2      0.702703      0.892000         0.971663                19   \n",
       "3      0.000000      0.292332         0.903291                18   \n",
       "4      0.148148      0.411817         0.899916                13   \n",
       "\n",
       "   gen1_gen_length  ...  gen2_gold_length  gen2_gen_length  gen2_diff_length  \\\n",
       "0               53  ...                36               53                17   \n",
       "1               18  ...                18               18                 0   \n",
       "2               20  ...                20               20                 0   \n",
       "3               15  ...                12               15                 3   \n",
       "4               15  ...                12               15                 3   \n",
       "\n",
       "   gen3_rouge_1  gen3_rouge_2  gen3_rouge_l  gen3_bert_score  \\\n",
       "0      0.425000      0.230769      0.394919         0.884799   \n",
       "1      0.514286      0.181818      0.466024         0.919479   \n",
       "2      0.634146      0.205128      0.549823         0.936697   \n",
       "3      0.555556      0.176471      0.343960         0.919318   \n",
       "4      0.413793      0.148148      0.411817         0.904353   \n",
       "\n",
       "   gen3_gold_length  gen3_gen_length  gen3_diff_length  \n",
       "0                27               53                26  \n",
       "1                17               18                 1  \n",
       "2                21               20                -1  \n",
       "3                18               15                -3  \n",
       "4                13               15                 2  \n",
       "\n",
       "[5 rows x 25 columns]"
      ]
     },
     "execution_count": 84,
     "metadata": {},
     "output_type": "execute_result"
    }
   ],
   "source": [
    "result_all_df[1].head()"
   ]
  },
  {
   "cell_type": "code",
   "execution_count": 85,
   "id": "28996fd0",
   "metadata": {},
   "outputs": [],
   "source": [
    "list_gold_summary = ['summary1', 'summary2', 'summary3']\n",
    "list_gold_topic = ['topic1', 'topic2', 'topic3']\n",
    "list_gen_summary = ['gen_summary1', 'gen_summary2', 'gen_summary3']"
   ]
  },
  {
   "cell_type": "code",
   "execution_count": 86,
   "id": "25b4ff8b-0f8f-4ea0-8348-1b353f351dde",
   "metadata": {},
   "outputs": [
    {
     "name": "stdout",
     "output_type": "stream",
     "text": [
      "Test Number:  7\n",
      "Gold Topic:  bill\n",
      "======================================================================================================================================================\n",
      "Gold Summary:  #Person2# is checking out and asks #Person1# for the bill. #Person1# gives #Person2# a wrong bill at first then corrects it.\n",
      "------------------------------------------------------------------------------------------------------------------------------------------------------\n",
      "1_bart_noprompt:  #Person1# helps #Person2# check out and finds the charge for laundry service on Nov. 20th has been added to someone else's. They'll correct the bill.\n",
      "------------------------------------------------------------------------------------------------------------------------------------------------------\n",
      "2_bart_topic:  #Person2# is checking out and finds the bill is wrong. #Person1# will correct it with the department concerned.\n",
      "------------------------------------------------------------------------------------------------------------------------------------------------------\n",
      "3_bart_length:  #Person1# helps #Person2# check out and finds the charge for laundry service on Nov. 20th has been added to someone else's bill.\n",
      "------------------------------------------------------------------------------------------------------------------------------------------------------\n",
      "4_bart_topic_length:  #Person2# is checking out and finds the bill has been wrong. #Person1# apologizes and will correct the bill.\n",
      "------------------------------------------------------------------------------------------------------------------------------------------------------\n",
      "5_bart_contrastive_random:  #Person2# checks out and finds the charge for laundry service on Nov. 20th has been added to someone else's. #Person1# apologizes and will correct the bill.\n",
      "------------------------------------------------------------------------------------------------------------------------------------------------------\n",
      "6_bart_contrastive_synonym:  #Person2# is checking out. #Person1# tells #Person2 # there has been a mistake in the bill and will correct it.\n",
      "------------------------------------------------------------------------------------------------------------------------------------------------------\n",
      "7_bart_contrastive_combine:  #Person2# is checking out and finds the bill is wrong. #Person1# apologizes and will correct the bill.\n",
      "------------------------------------------------------------------------------------------------------------------------------------------------------\n",
      "8_bart_contrastive_combine_word_tagger_dialog:  #Person1# helps #Person2# check out and finds the charge for laundry service on Nov. 20th has been added to someone else's bill.\n",
      "------------------------------------------------------------------------------------------------------------------------------------------------------\n",
      "9_bart_contrastive_combine_prompt_tagger_dialog:  #Person2# checks out and finds the laundry service charge is added to someone else's bill. #Person1# apologizes and will correct the bill.\n",
      "------------------------------------------------------------------------------------------------------------------------------------------------------\n",
      "5_bart_contrastive_random_negative:  #Person2# checks out and finds the charge for the laundry service has been added. #Person1# apologizes and will correct it.\n",
      "------------------------------------------------------------------------------------------------------------------------------------------------------\n",
      "6_bart_contrastive_synonym_positive:  #Person2# checks out and asks for the bill. #Person1# finds the charge for laundry service on Nov. 20th has been added to someone else's and will correct it.\n",
      "------------------------------------------------------------------------------------------------------------------------------------------------------\n",
      "7_bart_contrastive_combine_pos_neg:  #Person2# is checking out and finds the bill is wrong. #Person1# will correct the bill with the department concerned.\n",
      "------------------------------------------------------------------------------------------------------------------------------------------------------\n",
      "4_bart_topic_length_word_tagger:  #Person2# wants to check out. #Person1# finds there has been a mistake in the bill and will correct it.\n",
      "------------------------------------------------------------------------------------------------------------------------------------------------------\n",
      "4_bart_topic_length_prompt_tagger:  #Person2# checks out and finds the charge for the laundry service has been added to someone else's bill. #Person1# will correct it.\n",
      "------------------------------------------------------------------------------------------------------------------------------------------------------\n"
     ]
    }
   ],
   "source": [
    "num_example = 7\n",
    "gen_summary_num = 1\n",
    "\n",
    "print(\"Test Number: \", num_example)\n",
    "print(\"Gold Topic: \", gold_summary_df.loc[num_example, list_gold_topic[gen_summary_num-1]])\n",
    "print(\"=\"*150)\n",
    "print(\"Gold Summary: \", gold_summary_df.loc[num_example, list_gold_summary[gen_summary_num-1]])\n",
    "print(\"-\"*150)\n",
    "for num_method in list_method:\n",
    "    # print(\"Experiment: \", name_method[num_method])\n",
    "    \n",
    "    # print(\"gen_summary1: \", result_all_df[num_method].loc[num_example, 'gen_summary1'])\n",
    "    # print(\"gen_summary2: \", result_all_df[num_method].loc[num_example, 'gen_summary2'])\n",
    "    # print(\"gen_summary3: \", result_all_df[num_method].loc[num_example, 'gen_summary3'])\n",
    "    # print(\"-\"*150)\n",
    "    \n",
    "    # print(f\"{name_method[num_method]}: \", list_gen_summary[gen_summary_num-1], result_all_df[num_method].loc[num_example, list_gen_summary[gen_summary_num-1]])\n",
    "    print(f\"{name_method[num_method]}: \", result_all_df[num_method].loc[num_example, list_gen_summary[gen_summary_num-1]])\n",
    "    print(\"-\"*150)"
   ]
  },
  {
   "cell_type": "code",
   "execution_count": 87,
   "id": "c8a84ac0",
   "metadata": {},
   "outputs": [
    {
     "name": "stdout",
     "output_type": "stream",
     "text": [
      "Test Number:  29\n",
      "Gold Topic:  communication strategy\n",
      "======================================================================================================================================================\n",
      "Gold Summary:  #Person2# tells #Person1# #Person2#'s communication strategy.\n",
      "------------------------------------------------------------------------------------------------------------------------------------------------------\n",
      "1_bart_noprompt:  #Person2# tells #Person1# #Person2 # is an outgoing person and the most important thing in communication is sincerity.\n",
      "------------------------------------------------------------------------------------------------------------------------------------------------------\n",
      "2_bart_topic:  #Person2# tells #Person1# #Person2 # is an outgoing person and the most important thing in communication is sincerity.\n",
      "------------------------------------------------------------------------------------------------------------------------------------------------------\n",
      "3_bart_length:  #Person2# tells #Person1# about #Person2 #'s personality.\n",
      "------------------------------------------------------------------------------------------------------------------------------------------------------\n",
      "4_bart_topic_length:  #Person2# tells #Person1# #Person2 #'s communication strategy.\n",
      "------------------------------------------------------------------------------------------------------------------------------------------------------\n",
      "5_bart_contrastive_random:  #Person2# tells #Person1# #Person2 #'s communication strategy.\n",
      "------------------------------------------------------------------------------------------------------------------------------------------------------\n",
      "6_bart_contrastive_synonym:  #Person2# tells #Person1# #Person2's strategy in communicating with colleagues.\n",
      "------------------------------------------------------------------------------------------------------------------------------------------------------\n",
      "7_bart_contrastive_combine:  #Person2# tells #Person1# #Person2 #'s communication strategy.\n",
      "------------------------------------------------------------------------------------------------------------------------------------------------------\n",
      "8_bart_contrastive_combine_word_tagger_dialog:  #Person2# tells #Person1# #Person2 #'s communication strategy.\n",
      "------------------------------------------------------------------------------------------------------------------------------------------------------\n",
      "9_bart_contrastive_combine_prompt_tagger_dialog:  #Person2# tells #Person1# #Person 2#'s communication strategy.\n",
      "------------------------------------------------------------------------------------------------------------------------------------------------------\n",
      "5_bart_contrastive_random_negative:  #Person1# asks #Person2#'s strategy in communicating with colleagues.\n",
      "------------------------------------------------------------------------------------------------------------------------------------------------------\n",
      "6_bart_contrastive_synonym_positive:  #Person2# tells #Person1# the most important thing in communication is sincerity.\n",
      "------------------------------------------------------------------------------------------------------------------------------------------------------\n",
      "7_bart_contrastive_combine_pos_neg:  #Person2# tells #Person1# about #Person2 #'s communication strategy.\n",
      "------------------------------------------------------------------------------------------------------------------------------------------------------\n",
      "4_bart_topic_length_word_tagger:  #Person2# tells #Person1# #Person 2#'s communication strategy.\n",
      "------------------------------------------------------------------------------------------------------------------------------------------------------\n",
      "4_bart_topic_length_prompt_tagger:  #Person2# tells #Person1# about #Person 2#'s communication strategy.\n",
      "------------------------------------------------------------------------------------------------------------------------------------------------------\n"
     ]
    }
   ],
   "source": [
    "num_example = 29\n",
    "gen_summary_num = 1\n",
    "\n",
    "print(\"Test Number: \", num_example)\n",
    "print(\"Gold Topic: \", gold_summary_df.loc[num_example, list_gold_topic[gen_summary_num-1]])\n",
    "print(\"=\"*150)\n",
    "print(\"Gold Summary: \", gold_summary_df.loc[num_example, list_gold_summary[gen_summary_num-1]])\n",
    "print(\"-\"*150)\n",
    "for num_method in list_method:\n",
    "    # print(\"Experiment: \", name_method[num_method])\n",
    "    \n",
    "    # print(\"gen_summary1: \", result_all_df[num_method].loc[num_example, 'gen_summary1'])\n",
    "    # print(\"gen_summary2: \", result_all_df[num_method].loc[num_example, 'gen_summary2'])\n",
    "    # print(\"gen_summary3: \", result_all_df[num_method].loc[num_example, 'gen_summary3'])\n",
    "    # print(\"-\"*150)\n",
    "    \n",
    "    # print(f\"{name_method[num_method]}: \", list_gen_summary[gen_summary_num-1], result_all_df[num_method].loc[num_example, list_gen_summary[gen_summary_num-1]])\n",
    "    print(f\"{name_method[num_method]}: \", result_all_df[num_method].loc[num_example, list_gen_summary[gen_summary_num-1]])\n",
    "    print(\"-\"*150)"
   ]
  },
  {
   "cell_type": "code",
   "execution_count": 88,
   "id": "80c8d497-1b08-4066-bf9f-f1d6869379d5",
   "metadata": {},
   "outputs": [
    {
     "name": "stdout",
     "output_type": "stream",
     "text": [
      "Test Number:  450\n",
      "Gold Topic:  ask for the way\n",
      "======================================================================================================================================================\n",
      "Gold Summary:  #Person1# asks #Person2# for the way to Peak Tram. #Person2# tells so and is asked to repeat so #Person1# can write it down.\n",
      "------------------------------------------------------------------------------------------------------------------------------------------------------\n",
      "1_bart_noprompt:  #Person2# tells #Person1# the way to the Peak Tram and asks #Person 1# to write it down.\n",
      "------------------------------------------------------------------------------------------------------------------------------------------------------\n",
      "2_bart_topic:  #Person2# tells #Person1# the way to the Peak Tram.\n",
      "------------------------------------------------------------------------------------------------------------------------------------------------------\n",
      "3_bart_length:  #Person2# tells #Person1# the way to the Peak Tram. #Person3# repeats the directions and asks #Person 1# to write it down. # person1# is grateful.\n",
      "------------------------------------------------------------------------------------------------------------------------------------------------------\n",
      "4_bart_topic_length:  #Person2# tells #Person1# the way to the Peak Tram and repeats the steps in detail. #Person 1#'ll write it down and asks #Person 2# for a pencil to remind #Person3#.\n",
      "------------------------------------------------------------------------------------------------------------------------------------------------------\n",
      "5_bart_contrastive_random:  #Person2# tells #Person1# the way to the Peak Tram. #Person3# repeats all the steps and #Person 1# decides to write it down because it's hard to remember them all.\n",
      "------------------------------------------------------------------------------------------------------------------------------------------------------\n",
      "6_bart_contrastive_synonym:  #Person2# tells #Person1# the way to the Peak Tram. #Person 1# wants to write it down and asks #Person 2# to repeat all that again.\n",
      "------------------------------------------------------------------------------------------------------------------------------------------------------\n",
      "7_bart_contrastive_combine:  #Person2# tells #Person1# the way to the Peak Tram. #Person 1# wants to write it down and asks #Person2 # for a pencil to do so.\n",
      "------------------------------------------------------------------------------------------------------------------------------------------------------\n",
      "8_bart_contrastive_combine_word_tagger_dialog:  #Person2# tells #Person1# the way to the Peak Tram and repeats the steps in detail. #Person 1# will write it down and asks for a pencil.\n",
      "------------------------------------------------------------------------------------------------------------------------------------------------------\n",
      "9_bart_contrastive_combine_prompt_tagger_dialog:  #Person2# tells #Person1# the way to the Peak Tram and the way from the Hilton Hotel to the Cathedral, and #Person 1# wants to write it down.\n",
      "------------------------------------------------------------------------------------------------------------------------------------------------------\n",
      "5_bart_contrastive_random_negative:  #Person2# tells #Person1# the way to the Peak Tram and #Person 1# wants to write it down.\n",
      "------------------------------------------------------------------------------------------------------------------------------------------------------\n",
      "6_bart_contrastive_synonym_positive:  #Person2# tells #Person1# the way to the Peak Tram and repeats the steps in detail. #Person 1# is grateful and will write it down.\n",
      "------------------------------------------------------------------------------------------------------------------------------------------------------\n",
      "7_bart_contrastive_combine_pos_neg:  #Person2# tells #Person1# the way to the Peak Tram and repeats the steps in detail. #Person 1# will write it down.\n",
      "------------------------------------------------------------------------------------------------------------------------------------------------------\n",
      "4_bart_topic_length_word_tagger:  #Person2# tells #Person1# the way to the Peak Tram and repeats the way several times. #Person 1# wants to write it down and asks for a pencil.\n",
      "------------------------------------------------------------------------------------------------------------------------------------------------------\n",
      "4_bart_topic_length_prompt_tagger:  #Person2# tells #Person1# the way to the Peak Tram and repeats the directions in detail. #Person 1# will write it down and asks #Person 2# for a pencil to record it.\n",
      "------------------------------------------------------------------------------------------------------------------------------------------------------\n"
     ]
    }
   ],
   "source": [
    "num_example = 450\n",
    "gen_summary_num = 3\n",
    "\n",
    "print(\"Test Number: \", num_example)\n",
    "print(\"Gold Topic: \", gold_summary_df.loc[num_example, list_gold_topic[gen_summary_num-1]])\n",
    "print(\"=\"*150)\n",
    "print(\"Gold Summary: \", gold_summary_df.loc[num_example, list_gold_summary[gen_summary_num-1]])\n",
    "print(\"-\"*150)\n",
    "for num_method in list_method:\n",
    "    # print(\"Experiment: \", name_method[num_method])\n",
    "    \n",
    "    # print(\"gen_summary1: \", result_all_df[num_method].loc[num_example, 'gen_summary1'])\n",
    "    # print(\"gen_summary2: \", result_all_df[num_method].loc[num_example, 'gen_summary2'])\n",
    "    # print(\"gen_summary3: \", result_all_df[num_method].loc[num_example, 'gen_summary3'])\n",
    "    # print(\"-\"*150)\n",
    "    \n",
    "    # print(f\"{name_method[num_method]}: \", list_gen_summary[gen_summary_num-1], result_all_df[num_method].loc[num_example, list_gen_summary[gen_summary_num-1]])\n",
    "    print(f\"{name_method[num_method]}: \", result_all_df[num_method].loc[num_example, list_gen_summary[gen_summary_num-1]])\n",
    "    print(\"-\"*150)"
   ]
  },
  {
   "cell_type": "code",
   "execution_count": 89,
   "id": "d83e8cd5-7ada-4821-bceb-00d35a6181a1",
   "metadata": {},
   "outputs": [
    {
     "name": "stdout",
     "output_type": "stream",
     "text": [
      "Test Number:  307\n",
      "Gold Topic:  warning\n",
      "======================================================================================================================================================\n",
      "Gold Summary:  #Person1# warns #Person2# of the possible trouble in the future, but #Person2# doesn't mind.\n",
      "------------------------------------------------------------------------------------------------------------------------------------------------------\n",
      "1_bart_noprompt:  #Person1# warns #Person2# not to do what they're doing because it may lead to trouble.\n",
      "------------------------------------------------------------------------------------------------------------------------------------------------------\n",
      "2_bart_topic:  #Person1# warns #Person2# not to do something if it doesn't cause trouble on the horizon, but #Person 2# keeps looking at the positive side of things.\n",
      "------------------------------------------------------------------------------------------------------------------------------------------------------\n",
      "3_bart_length:  #Person1# warns #Person2# not to do something if he thinks everything has gone as smooth as clockwork.\n",
      "------------------------------------------------------------------------------------------------------------------------------------------------------\n",
      "4_bart_topic_length:  #Person1# warns #Person2# not to do what #Person3# is doing because there will be trouble on the horizon.\n",
      "------------------------------------------------------------------------------------------------------------------------------------------------------\n",
      "5_bart_contrastive_random:  #Person1# warns #Person2# not to do what they're doing because there'll be trouble on the horizon.\n",
      "------------------------------------------------------------------------------------------------------------------------------------------------------\n",
      "6_bart_contrastive_synonym:  #Person1# warns #Person2# not to do what they're doing because there'll be trouble.\n",
      "------------------------------------------------------------------------------------------------------------------------------------------------------\n",
      "7_bart_contrastive_combine:  #Person1# warns #Person2# not to do what they're doing because there will be trouble on the horizon.\n",
      "------------------------------------------------------------------------------------------------------------------------------------------------------\n",
      "8_bart_contrastive_combine_word_tagger_dialog:  #Person1# warns #Person2# not to do what #Person3# is doing because there will be trouble on the horizon.\n",
      "------------------------------------------------------------------------------------------------------------------------------------------------------\n",
      "9_bart_contrastive_combine_prompt_tagger_dialog:  #Person1# warns #Person2# not to do what they're doing because there will be trouble.\n",
      "------------------------------------------------------------------------------------------------------------------------------------------------------\n",
      "5_bart_contrastive_random_negative:  #Person1# warns #Person2# not to do what they're doing because it will lead to trouble.\n",
      "------------------------------------------------------------------------------------------------------------------------------------------------------\n",
      "6_bart_contrastive_synonym_positive:  #Person1# warns #Person2# not to do something if he thinks it's easy, or he'll get into trouble.\n",
      "------------------------------------------------------------------------------------------------------------------------------------------------------\n",
      "7_bart_contrastive_combine_pos_neg:  #Person1# warns #Person2# not to do something if he doesn't look at the positive side of things.\n",
      "------------------------------------------------------------------------------------------------------------------------------------------------------\n",
      "4_bart_topic_length_word_tagger:  #Person1# warns #Person2# not to do that because there will be trouble on the horizon.\n",
      "------------------------------------------------------------------------------------------------------------------------------------------------------\n",
      "4_bart_topic_length_prompt_tagger:  #Person1# warns #Person2# not to do what they're doing because there'll be trouble.\n",
      "------------------------------------------------------------------------------------------------------------------------------------------------------\n"
     ]
    }
   ],
   "source": [
    "num_example = 307\n",
    "gen_summary_num = 2\n",
    "\n",
    "print(\"Test Number: \", num_example)\n",
    "print(\"Gold Topic: \", gold_summary_df.loc[num_example, list_gold_topic[gen_summary_num-1]])\n",
    "print(\"=\"*150)\n",
    "print(\"Gold Summary: \", gold_summary_df.loc[num_example, list_gold_summary[gen_summary_num-1]])\n",
    "print(\"-\"*150)\n",
    "for num_method in list_method:\n",
    "    # print(\"Experiment: \", name_method[num_method])\n",
    "    \n",
    "    # print(\"gen_summary1: \", result_all_df[num_method].loc[num_example, 'gen_summary1'])\n",
    "    # print(\"gen_summary2: \", result_all_df[num_method].loc[num_example, 'gen_summary2'])\n",
    "    # print(\"gen_summary3: \", result_all_df[num_method].loc[num_example, 'gen_summary3'])\n",
    "    # print(\"-\"*150)\n",
    "    \n",
    "    # print(f\"{name_method[num_method]}: \", list_gen_summary[gen_summary_num-1], result_all_df[num_method].loc[num_example, list_gen_summary[gen_summary_num-1]])\n",
    "    print(f\"{name_method[num_method]}: \", result_all_df[num_method].loc[num_example, list_gen_summary[gen_summary_num-1]])\n",
    "    print(\"-\"*150)"
   ]
  },
  {
   "cell_type": "code",
   "execution_count": 90,
   "id": "87a52757-0206-4968-9701-c3edd3bc6ef8",
   "metadata": {},
   "outputs": [
    {
     "name": "stdout",
     "output_type": "stream",
     "text": [
      "Test Number:  176\n",
      "Gold Topic:  taxi conversation\n",
      "======================================================================================================================================================\n",
      "Gold Summary:  #Person1# drives #Person2# to the Grand Hotel.\n",
      "------------------------------------------------------------------------------------------------------------------------------------------------------\n",
      "1_bart_noprompt:  #Person2# shows #Person1# the way to the Grand Hotel.\n",
      "------------------------------------------------------------------------------------------------------------------------------------------------------\n",
      "2_bart_topic:  #Person2# tells #Person1# the Grand Hotel is on 11th Avenue, Park Street.\n",
      "------------------------------------------------------------------------------------------------------------------------------------------------------\n",
      "3_bart_length:  #Person2# tells #Person1# the location of the Grand Hotel.\n",
      "------------------------------------------------------------------------------------------------------------------------------------------------------\n",
      "4_bart_topic_length:  #Person2# tells #Person1# the location of the Grand Hotel.\n",
      "------------------------------------------------------------------------------------------------------------------------------------------------------\n",
      "5_bart_contrastive_random:  #Person2# tells #Person1# the location of the Grand Hotel.\n",
      "------------------------------------------------------------------------------------------------------------------------------------------------------\n",
      "6_bart_contrastive_synonym:  #Person2# tells #Person1# the location of the Grand Hotel.\n",
      "------------------------------------------------------------------------------------------------------------------------------------------------------\n",
      "7_bart_contrastive_combine:  #Person2# drives #Person1# to the Grand Hotel.\n",
      "------------------------------------------------------------------------------------------------------------------------------------------------------\n",
      "8_bart_contrastive_combine_word_tagger_dialog:  #Person1# drives #Person2# to the Grand Hotel.\n",
      "------------------------------------------------------------------------------------------------------------------------------------------------------\n",
      "9_bart_contrastive_combine_prompt_tagger_dialog:  #Person2# tells #Person1# the location of the Grand Hotel.\n",
      "------------------------------------------------------------------------------------------------------------------------------------------------------\n",
      "5_bart_contrastive_random_negative:  #Person2# drives #Person1# to the Grand Hotel.\n",
      "------------------------------------------------------------------------------------------------------------------------------------------------------\n",
      "6_bart_contrastive_synonym_positive:  #Person2# tells #Person1# the location of the Grand Hotel.\n",
      "------------------------------------------------------------------------------------------------------------------------------------------------------\n",
      "7_bart_contrastive_combine_pos_neg:  #Person2# tells #Person1# the location of the Grand Hotel.\n",
      "------------------------------------------------------------------------------------------------------------------------------------------------------\n",
      "4_bart_topic_length_word_tagger:  #Person2# tells #Person1# the location of the Grand Hotel.\n",
      "------------------------------------------------------------------------------------------------------------------------------------------------------\n",
      "4_bart_topic_length_prompt_tagger:  #Person2# tells #Person1# the location of the Grand Hotel.\n",
      "------------------------------------------------------------------------------------------------------------------------------------------------------\n"
     ]
    }
   ],
   "source": [
    "num_example = 176\n",
    "gen_summary_num = 1\n",
    "\n",
    "print(\"Test Number: \", num_example)\n",
    "print(\"Gold Topic: \", gold_summary_df.loc[num_example, list_gold_topic[gen_summary_num-1]])\n",
    "print(\"=\"*150)\n",
    "print(\"Gold Summary: \", gold_summary_df.loc[num_example, list_gold_summary[gen_summary_num-1]])\n",
    "print(\"-\"*150)\n",
    "for num_method in list_method:\n",
    "    # print(\"Experiment: \", name_method[num_method])\n",
    "    \n",
    "    # print(\"gen_summary1: \", result_all_df[num_method].loc[num_example, 'gen_summary1'])\n",
    "    # print(\"gen_summary2: \", result_all_df[num_method].loc[num_example, 'gen_summary2'])\n",
    "    # print(\"gen_summary3: \", result_all_df[num_method].loc[num_example, 'gen_summary3'])\n",
    "    # print(\"-\"*150)\n",
    "    \n",
    "    # print(f\"{name_method[num_method]}: \", list_gen_summary[gen_summary_num-1], result_all_df[num_method].loc[num_example, list_gen_summary[gen_summary_num-1]])\n",
    "    print(f\"{name_method[num_method]}: \", result_all_df[num_method].loc[num_example, list_gen_summary[gen_summary_num-1]])\n",
    "    print(\"-\"*150)"
   ]
  },
  {
   "cell_type": "code",
   "execution_count": 92,
   "id": "42236207-bdb2-42c1-9533-9db15f8190b7",
   "metadata": {},
   "outputs": [
    {
     "name": "stdout",
     "output_type": "stream",
     "text": [
      "Test Number:  173\n",
      "Gold Topic:  ordering food\n",
      "======================================================================================================================================================\n",
      "Gold Summary:  #Person2# orders a glass of lemonade, barbeque wings, and baby-back ribs for meal with #Person1#'s assistance.\n",
      "------------------------------------------------------------------------------------------------------------------------------------------------------\n",
      "1_bart_noprompt:  #Person1# helps #Person2# order a glass of lemonade, barbeque wings, and baby-back ribs.\n",
      "------------------------------------------------------------------------------------------------------------------------------------------------------\n",
      "2_bart_topic:  #Person1# helps #Person2# order a glass of lemonade, barbeque wings, and baby-back ribs.\n",
      "------------------------------------------------------------------------------------------------------------------------------------------------------\n",
      "3_bart_length:  #Person1# helps #Person2# order a glass of lemonade, barbeque wings, and baby-back ribs.\n",
      "------------------------------------------------------------------------------------------------------------------------------------------------------\n",
      "4_bart_topic_length:  #Person2# orders a glass of lemonade, barbeque wings, and baby-back ribs with #Person1#'s assistance.\n",
      "------------------------------------------------------------------------------------------------------------------------------------------------------\n",
      "5_bart_contrastive_random:  #Person1# helps #Person2# order a glass of lemonade, barbeque wings, and baby-back ribs.\n",
      "------------------------------------------------------------------------------------------------------------------------------------------------------\n",
      "6_bart_contrastive_synonym:  #Person1# helps #Person2# order a glass of lemonade, barbeque wings, and baby-back ribs.\n",
      "------------------------------------------------------------------------------------------------------------------------------------------------------\n",
      "7_bart_contrastive_combine:  #Person1# helps #Person2# order a glass of lemonade, barbeque wings, and baby-back ribs.\n",
      "------------------------------------------------------------------------------------------------------------------------------------------------------\n",
      "8_bart_contrastive_combine_word_tagger_dialog:  #Person2# orders a glass of lemonade, barbeque wings, and baby-back ribs with #Person1#'s assistance.\n",
      "------------------------------------------------------------------------------------------------------------------------------------------------------\n",
      "9_bart_contrastive_combine_prompt_tagger_dialog:  #Person1# helps #Person2# order a glass of lemonade, barbeque wings, and baby-back ribs.\n",
      "------------------------------------------------------------------------------------------------------------------------------------------------------\n",
      "5_bart_contrastive_random_negative:  #Person1# helps #Person2# order a glass of lemonade, barbeque wings, and baby-back ribs.\n",
      "------------------------------------------------------------------------------------------------------------------------------------------------------\n",
      "6_bart_contrastive_synonym_positive:  #Person1# helps #Person2# order a glass of lemonade, barbeque wings, and baby-back ribs.\n",
      "------------------------------------------------------------------------------------------------------------------------------------------------------\n",
      "7_bart_contrastive_combine_pos_neg:  #Person2# orders a glass of lemonade, barbeque wings, and baby-back ribs with #Person1#'s assistance.\n",
      "------------------------------------------------------------------------------------------------------------------------------------------------------\n",
      "4_bart_topic_length_word_tagger:  #Person2# orders a glass of lemonade, barbeque wings, and baby-back ribs with #Person1#'s assistance.\n",
      "------------------------------------------------------------------------------------------------------------------------------------------------------\n",
      "4_bart_topic_length_prompt_tagger:  #Person1# helps #Person2# order a glass of lemonade, barbeque wings, and baby-back ribs.\n",
      "------------------------------------------------------------------------------------------------------------------------------------------------------\n"
     ]
    }
   ],
   "source": [
    "num_example = 173\n",
    "gen_summary_num = 1\n",
    "\n",
    "print(\"Test Number: \", num_example)\n",
    "print(\"Gold Topic: \", gold_summary_df.loc[num_example, list_gold_topic[gen_summary_num-1]])\n",
    "print(\"=\"*150)\n",
    "print(\"Gold Summary: \", gold_summary_df.loc[num_example, list_gold_summary[gen_summary_num-1]])\n",
    "print(\"-\"*150)\n",
    "for num_method in list_method:\n",
    "    # print(\"Experiment: \", name_method[num_method])\n",
    "    \n",
    "    # print(\"gen_summary1: \", result_all_df[num_method].loc[num_example, 'gen_summary1'])\n",
    "    # print(\"gen_summary2: \", result_all_df[num_method].loc[num_example, 'gen_summary2'])\n",
    "    # print(\"gen_summary3: \", result_all_df[num_method].loc[num_example, 'gen_summary3'])\n",
    "    # print(\"-\"*150)\n",
    "    \n",
    "    # print(f\"{name_method[num_method]}: \", list_gen_summary[gen_summary_num-1], result_all_df[num_method].loc[num_example, list_gen_summary[gen_summary_num-1]])\n",
    "    print(f\"{name_method[num_method]}: \", result_all_df[num_method].loc[num_example, list_gen_summary[gen_summary_num-1]])\n",
    "    print(\"-\"*150)"
   ]
  },
  {
   "cell_type": "code",
   "execution_count": 111,
   "id": "ae4ce5aa-1508-4b64-b695-afc97f709d76",
   "metadata": {},
   "outputs": [
    {
     "name": "stdout",
     "output_type": "stream",
     "text": [
      "Test Number:  226\n",
      "Gold Topic:  leave a tip\n",
      "======================================================================================================================================================\n",
      "Gold Summary:  #Person1# pays and leaves a tip but #Person2# politely refuses.\n",
      "------------------------------------------------------------------------------------------------------------------------------------------------------\n",
      "1_bart_noprompt:  #Person2# helps #Person1# order food and tells him they don't take tips.\n",
      "------------------------------------------------------------------------------------------------------------------------------------------------------\n",
      "2_bart_topic:  #Person1# pays for his meal and wants to leave a tip. #Person2# says they don't take tips.\n",
      "------------------------------------------------------------------------------------------------------------------------------------------------------\n",
      "3_bart_length:  #Person2# helps #Person1# pay for his meal and tells him there's no tip.\n",
      "------------------------------------------------------------------------------------------------------------------------------------------------------\n",
      "4_bart_topic_length:  #Person2# tells #Person1# they don't take tips for the meal.\n",
      "------------------------------------------------------------------------------------------------------------------------------------------------------\n",
      "5_bart_contrastive_random:  #Person2# tells #Person1# they don't take tips but #Person 1# keeps the change.\n",
      "------------------------------------------------------------------------------------------------------------------------------------------------------\n",
      "6_bart_contrastive_synonym:  #Person2# tells #Person1# they take no tips here.\n",
      "------------------------------------------------------------------------------------------------------------------------------------------------------\n",
      "7_bart_contrastive_combine:  #Person2# tells #Person1# they don't take tips here.\n",
      "------------------------------------------------------------------------------------------------------------------------------------------------------\n",
      "8_bart_contrastive_combine_word_tagger_dialog:  #Person2# tells #Person1# they don't take tips.\n",
      "------------------------------------------------------------------------------------------------------------------------------------------------------\n",
      "9_bart_contrastive_combine_prompt_tagger_dialog:  #Person1# pays and leaves a tip with #Person2#'s assistance.\n",
      "------------------------------------------------------------------------------------------------------------------------------------------------------\n",
      "5_bart_contrastive_random_negative:  #Person2# tells #Person1# they don't take tips here.\n",
      "------------------------------------------------------------------------------------------------------------------------------------------------------\n",
      "6_bart_contrastive_synonym_positive:  #Person2# tells #Person1# they don't take tips.\n",
      "------------------------------------------------------------------------------------------------------------------------------------------------------\n",
      "7_bart_contrastive_combine_pos_neg:  #Person2# tells #Person1# they don't take tips here.\n",
      "------------------------------------------------------------------------------------------------------------------------------------------------------\n",
      "4_bart_topic_length_word_tagger:  #Person2# tells #Person1# they don't take tips.\n",
      "------------------------------------------------------------------------------------------------------------------------------------------------------\n",
      "4_bart_topic_length_prompt_tagger:  #Person1# pays and leaves a tip with #Person2#'s assistance.\n",
      "------------------------------------------------------------------------------------------------------------------------------------------------------\n"
     ]
    }
   ],
   "source": [
    "num_example = 226\n",
    "gen_summary_num = 3\n",
    "\n",
    "print(\"Test Number: \", num_example)\n",
    "print(\"Gold Topic: \", gold_summary_df.loc[num_example, list_gold_topic[gen_summary_num-1]])\n",
    "print(\"=\"*150)\n",
    "print(\"Gold Summary: \", gold_summary_df.loc[num_example, list_gold_summary[gen_summary_num-1]])\n",
    "print(\"-\"*150)\n",
    "for num_method in list_method:\n",
    "    # print(\"Experiment: \", name_method[num_method])\n",
    "    \n",
    "    # print(\"gen_summary1: \", result_all_df[num_method].loc[num_example, 'gen_summary1'])\n",
    "    # print(\"gen_summary2: \", result_all_df[num_method].loc[num_example, 'gen_summary2'])\n",
    "    # print(\"gen_summary3: \", result_all_df[num_method].loc[num_example, 'gen_summary3'])\n",
    "    # print(\"-\"*150)\n",
    "    \n",
    "    # print(f\"{name_method[num_method]}: \", list_gen_summary[gen_summary_num-1], result_all_df[num_method].loc[num_example, list_gen_summary[gen_summary_num-1]])\n",
    "    print(f\"{name_method[num_method]}: \", result_all_df[num_method].loc[num_example, list_gen_summary[gen_summary_num-1]])\n",
    "    print(\"-\"*150)"
   ]
  },
  {
   "cell_type": "code",
   "execution_count": 91,
   "id": "f18e142d",
   "metadata": {},
   "outputs": [],
   "source": [
    "'''\n",
    "Find the matching substrings in 2 strings.\n",
    ":parameter\n",
    "    :param a: string - raw text\n",
    "    :param b: string - raw text\n",
    ":return\n",
    "    2 lists used in to display matches\n",
    "'''\n",
    "def utils_split_sentences(a, b):\n",
    "    ## find clean matches\n",
    "    match = difflib.SequenceMatcher(isjunk=None, a=a, b=b, autojunk=True)\n",
    "    lst_match = [block for block in match.get_matching_blocks() if block.size > 20]\n",
    "\n",
    "    ## difflib didn't find any match\n",
    "    if len(lst_match) == 0:\n",
    "        lst_a, lst_b = nltk.sent_tokenize(a), nltk.sent_tokenize(b)\n",
    "\n",
    "    ## work with matches\n",
    "    else:\n",
    "        first_m, last_m = lst_match[0], lst_match[-1]\n",
    "\n",
    "        ### a\n",
    "        string = a[0 : first_m.a]\n",
    "        lst_a = [t for t in nltk.sent_tokenize(string)]\n",
    "        for n in range(len(lst_match)):\n",
    "            m = lst_match[n]\n",
    "            string = a[m.a : m.a+m.size]\n",
    "            lst_a.append(string)\n",
    "            if n+1 < len(lst_match):\n",
    "                next_m = lst_match[n+1]\n",
    "                string = a[m.a+m.size : next_m.a]\n",
    "                lst_a = lst_a + [t for t in nltk.sent_tokenize(string)]\n",
    "            else:\n",
    "                break\n",
    "        string = a[last_m.a+last_m.size :]\n",
    "        lst_a = lst_a + [t for t in nltk.sent_tokenize(string)]\n",
    "\n",
    "        ### b\n",
    "        string = b[0 : first_m.b]\n",
    "        lst_b = [t for t in nltk.sent_tokenize(string)]\n",
    "        for n in range(len(lst_match)):\n",
    "            m = lst_match[n]\n",
    "            string = b[m.b : m.b+m.size]\n",
    "            lst_b.append(string)\n",
    "            if n+1 < len(lst_match):\n",
    "                next_m = lst_match[n+1]\n",
    "                string = b[m.b+m.size : next_m.b]\n",
    "                lst_b = lst_b + [t for t in nltk.sent_tokenize(string)]\n",
    "            else:\n",
    "                break\n",
    "        string = b[last_m.b+last_m.size :]\n",
    "        lst_b = lst_b + [t for t in nltk.sent_tokenize(string)]\n",
    "\n",
    "    return lst_a, lst_b\n",
    "\n",
    "\n",
    "'''\n",
    "Highlights the matched strings in text.\n",
    ":parameter\n",
    "    :param a: string - raw text\n",
    "    :param b: string - raw text\n",
    "    :param both: bool - search a in b and, if True, viceversa\n",
    "    :param sentences: bool - if False matches single words\n",
    ":return\n",
    "    text html, it can be visualized on notebook with display(HTML(text))\n",
    "'''\n",
    "def display_string_matching(a, b, both=True, sentences=True, titles=[]):\n",
    "    if sentences is True:\n",
    "        lst_a, lst_b = utils_split_sentences(a, b)\n",
    "    else:\n",
    "        lst_a, lst_b = a.split(), b.split()\n",
    "\n",
    "    ## highlight a\n",
    "    first_text = []\n",
    "    for i in lst_a:\n",
    "        if re.sub(r'[^\\w\\s]', '', i.lower()) in [re.sub(r'[^\\w\\s]', '', z.lower()) for z in lst_b]:\n",
    "            first_text.append('<span style=\"background-color:rgba(255,215,0,0.3);\">' + i + '</span>')\n",
    "        else:\n",
    "            first_text.append(i)\n",
    "    first_text = ' '.join(first_text)\n",
    "\n",
    "    ## highlight b\n",
    "    second_text = []\n",
    "    if both is True:\n",
    "        for i in lst_b:\n",
    "            if re.sub(r'[^\\w\\s]', '', i.lower()) in [re.sub(r'[^\\w\\s]', '', z.lower()) for z in lst_a]:\n",
    "                second_text.append('<span style=\"background-color:rgba(255,215,0,0.3);\">' + i + '</span>')\n",
    "            else:\n",
    "                second_text.append(i)\n",
    "    else:\n",
    "        second_text.append(b)\n",
    "    second_text = ' '.join(second_text)\n",
    "\n",
    "    ## concatenate\n",
    "    if len(titles) > 0:\n",
    "        first_text = \"<strong>\"+titles[0]+\"</strong><br>\"+first_text\n",
    "    if len(titles) > 1:\n",
    "        second_text = \"<strong>\"+titles[1]+\"</strong><br>\"+second_text\n",
    "    else:\n",
    "        second_text = \"---\"*65+\"<br><br>\"+second_text\n",
    "    final_text = first_text +'<br>'+ second_text\n",
    "    return final_text"
   ]
  },
  {
   "cell_type": "code",
   "execution_count": 28,
   "id": "7d16f8c7-00c3-47ba-899e-a3985060a981",
   "metadata": {},
   "outputs": [],
   "source": [
    "num_example = 7\n",
    "gen_summary_num = 1"
   ]
  },
  {
   "cell_type": "code",
   "execution_count": 29,
   "id": "6835b9a1",
   "metadata": {},
   "outputs": [
    {
     "name": "stdout",
     "output_type": "stream",
     "text": [
      "----------------------------------------------------------------------------------------------------\n",
      "Experiment:  1_bart_noprompt\n"
     ]
    },
    {
     "data": {
      "text/html": [
       "<strong>Full Text</strong><br><span style=\"background-color:rgba(255,215,0,0.3);\">#Person2#</span> is checking <span style=\"background-color:rgba(255,215,0,0.3);\">out</span> <span style=\"background-color:rgba(255,215,0,0.3);\">and</span> asks <span style=\"background-color:rgba(255,215,0,0.3);\">#Person1#</span> <span style=\"background-color:rgba(255,215,0,0.3);\">for</span> <span style=\"background-color:rgba(255,215,0,0.3);\">the</span> <span style=\"background-color:rgba(255,215,0,0.3);\">bill.</span> <span style=\"background-color:rgba(255,215,0,0.3);\">#Person1#</span> gives <span style=\"background-color:rgba(255,215,0,0.3);\">#Person2#</span> a wrong <span style=\"background-color:rgba(255,215,0,0.3);\">bill</span> at first then corrects it.<br><strong>Actual Text</strong><br><span style=\"background-color:rgba(255,215,0,0.3);\">#Person1#</span> helps <span style=\"background-color:rgba(255,215,0,0.3);\">#Person2#</span> check <span style=\"background-color:rgba(255,215,0,0.3);\">out</span> <span style=\"background-color:rgba(255,215,0,0.3);\">and</span> finds <span style=\"background-color:rgba(255,215,0,0.3);\">the</span> charge <span style=\"background-color:rgba(255,215,0,0.3);\">for</span> laundry service on Nov. 20th has been added to someone else's. They'll correct <span style=\"background-color:rgba(255,215,0,0.3);\">the</span> <span style=\"background-color:rgba(255,215,0,0.3);\">bill.</span>"
      ],
      "text/plain": [
       "<IPython.core.display.HTML object>"
      ]
     },
     "metadata": {},
     "output_type": "display_data"
    },
    {
     "name": "stdout",
     "output_type": "stream",
     "text": [
      "----------------------------------------------------------------------------------------------------\n",
      "Experiment:  2_bart_topic\n"
     ]
    },
    {
     "data": {
      "text/html": [
       "<strong>Full Text</strong><br><span style=\"background-color:rgba(255,215,0,0.3);\">#Person2#</span> <span style=\"background-color:rgba(255,215,0,0.3);\">is</span> <span style=\"background-color:rgba(255,215,0,0.3);\">checking</span> <span style=\"background-color:rgba(255,215,0,0.3);\">out</span> <span style=\"background-color:rgba(255,215,0,0.3);\">and</span> asks <span style=\"background-color:rgba(255,215,0,0.3);\">#Person1#</span> for <span style=\"background-color:rgba(255,215,0,0.3);\">the</span> <span style=\"background-color:rgba(255,215,0,0.3);\">bill.</span> <span style=\"background-color:rgba(255,215,0,0.3);\">#Person1#</span> gives <span style=\"background-color:rgba(255,215,0,0.3);\">#Person2#</span> a <span style=\"background-color:rgba(255,215,0,0.3);\">wrong</span> <span style=\"background-color:rgba(255,215,0,0.3);\">bill</span> at first then corrects <span style=\"background-color:rgba(255,215,0,0.3);\">it.</span><br><strong>Actual Text</strong><br><span style=\"background-color:rgba(255,215,0,0.3);\">#Person2#</span> <span style=\"background-color:rgba(255,215,0,0.3);\">is</span> <span style=\"background-color:rgba(255,215,0,0.3);\">checking</span> <span style=\"background-color:rgba(255,215,0,0.3);\">out</span> <span style=\"background-color:rgba(255,215,0,0.3);\">and</span> finds <span style=\"background-color:rgba(255,215,0,0.3);\">the</span> <span style=\"background-color:rgba(255,215,0,0.3);\">bill</span> <span style=\"background-color:rgba(255,215,0,0.3);\">is</span> <span style=\"background-color:rgba(255,215,0,0.3);\">wrong.</span> <span style=\"background-color:rgba(255,215,0,0.3);\">#Person1#</span> will correct <span style=\"background-color:rgba(255,215,0,0.3);\">it</span> with <span style=\"background-color:rgba(255,215,0,0.3);\">the</span> department concerned."
      ],
      "text/plain": [
       "<IPython.core.display.HTML object>"
      ]
     },
     "metadata": {},
     "output_type": "display_data"
    },
    {
     "name": "stdout",
     "output_type": "stream",
     "text": [
      "----------------------------------------------------------------------------------------------------\n",
      "Experiment:  3_bart_length\n"
     ]
    },
    {
     "data": {
      "text/html": [
       "<strong>Full Text</strong><br><span style=\"background-color:rgba(255,215,0,0.3);\">#Person2#</span> is checking <span style=\"background-color:rgba(255,215,0,0.3);\">out</span> <span style=\"background-color:rgba(255,215,0,0.3);\">and</span> asks <span style=\"background-color:rgba(255,215,0,0.3);\">#Person1#</span> <span style=\"background-color:rgba(255,215,0,0.3);\">for</span> <span style=\"background-color:rgba(255,215,0,0.3);\">the</span> <span style=\"background-color:rgba(255,215,0,0.3);\">bill.</span> <span style=\"background-color:rgba(255,215,0,0.3);\">#Person1#</span> gives <span style=\"background-color:rgba(255,215,0,0.3);\">#Person2#</span> a wrong <span style=\"background-color:rgba(255,215,0,0.3);\">bill</span> at first then corrects it.<br><strong>Actual Text</strong><br><span style=\"background-color:rgba(255,215,0,0.3);\">#Person1#</span> helps <span style=\"background-color:rgba(255,215,0,0.3);\">#Person2#</span> check <span style=\"background-color:rgba(255,215,0,0.3);\">out</span> <span style=\"background-color:rgba(255,215,0,0.3);\">and</span> finds <span style=\"background-color:rgba(255,215,0,0.3);\">the</span> charge <span style=\"background-color:rgba(255,215,0,0.3);\">for</span> laundry service on Nov. 20th has been added to someone else's <span style=\"background-color:rgba(255,215,0,0.3);\">bill.</span>"
      ],
      "text/plain": [
       "<IPython.core.display.HTML object>"
      ]
     },
     "metadata": {},
     "output_type": "display_data"
    },
    {
     "name": "stdout",
     "output_type": "stream",
     "text": [
      "----------------------------------------------------------------------------------------------------\n",
      "Experiment:  4_bart_topic_length\n"
     ]
    },
    {
     "data": {
      "text/html": [
       "<strong>Full Text</strong><br><span style=\"background-color:rgba(255,215,0,0.3);\">#Person2#</span> <span style=\"background-color:rgba(255,215,0,0.3);\">is</span> <span style=\"background-color:rgba(255,215,0,0.3);\">checking</span> <span style=\"background-color:rgba(255,215,0,0.3);\">out</span> <span style=\"background-color:rgba(255,215,0,0.3);\">and</span> asks <span style=\"background-color:rgba(255,215,0,0.3);\">#Person1#</span> for <span style=\"background-color:rgba(255,215,0,0.3);\">the</span> <span style=\"background-color:rgba(255,215,0,0.3);\">bill.</span> <span style=\"background-color:rgba(255,215,0,0.3);\">#Person1#</span> gives <span style=\"background-color:rgba(255,215,0,0.3);\">#Person2#</span> a <span style=\"background-color:rgba(255,215,0,0.3);\">wrong</span> <span style=\"background-color:rgba(255,215,0,0.3);\">bill</span> at first then corrects it.<br><strong>Actual Text</strong><br><span style=\"background-color:rgba(255,215,0,0.3);\">#Person2#</span> <span style=\"background-color:rgba(255,215,0,0.3);\">is</span> <span style=\"background-color:rgba(255,215,0,0.3);\">checking</span> <span style=\"background-color:rgba(255,215,0,0.3);\">out</span> <span style=\"background-color:rgba(255,215,0,0.3);\">and</span> finds <span style=\"background-color:rgba(255,215,0,0.3);\">the</span> <span style=\"background-color:rgba(255,215,0,0.3);\">bill</span> has been <span style=\"background-color:rgba(255,215,0,0.3);\">wrong.</span> <span style=\"background-color:rgba(255,215,0,0.3);\">#Person1#</span> apologizes <span style=\"background-color:rgba(255,215,0,0.3);\">and</span> will correct <span style=\"background-color:rgba(255,215,0,0.3);\">the</span> <span style=\"background-color:rgba(255,215,0,0.3);\">bill.</span>"
      ],
      "text/plain": [
       "<IPython.core.display.HTML object>"
      ]
     },
     "metadata": {},
     "output_type": "display_data"
    },
    {
     "name": "stdout",
     "output_type": "stream",
     "text": [
      "----------------------------------------------------------------------------------------------------\n",
      "Experiment:  5_bart_contrastive_random\n"
     ]
    },
    {
     "data": {
      "text/html": [
       "<strong>Full Text</strong><br><span style=\"background-color:rgba(255,215,0,0.3);\">#Person2#</span> is checking <span style=\"background-color:rgba(255,215,0,0.3);\">out</span> <span style=\"background-color:rgba(255,215,0,0.3);\">and</span> asks <span style=\"background-color:rgba(255,215,0,0.3);\">#Person1#</span> <span style=\"background-color:rgba(255,215,0,0.3);\">for</span> <span style=\"background-color:rgba(255,215,0,0.3);\">the</span> <span style=\"background-color:rgba(255,215,0,0.3);\">bill.</span> <span style=\"background-color:rgba(255,215,0,0.3);\">#Person1#</span> gives <span style=\"background-color:rgba(255,215,0,0.3);\">#Person2#</span> a wrong <span style=\"background-color:rgba(255,215,0,0.3);\">bill</span> at first then corrects it.<br><strong>Actual Text</strong><br><span style=\"background-color:rgba(255,215,0,0.3);\">#Person2#</span> checks <span style=\"background-color:rgba(255,215,0,0.3);\">out</span> <span style=\"background-color:rgba(255,215,0,0.3);\">and</span> finds <span style=\"background-color:rgba(255,215,0,0.3);\">the</span> charge <span style=\"background-color:rgba(255,215,0,0.3);\">for</span> laundry service on Nov. 20th has been added to someone else's. <span style=\"background-color:rgba(255,215,0,0.3);\">#Person1#</span> apologizes <span style=\"background-color:rgba(255,215,0,0.3);\">and</span> will correct <span style=\"background-color:rgba(255,215,0,0.3);\">the</span> <span style=\"background-color:rgba(255,215,0,0.3);\">bill.</span>"
      ],
      "text/plain": [
       "<IPython.core.display.HTML object>"
      ]
     },
     "metadata": {},
     "output_type": "display_data"
    },
    {
     "name": "stdout",
     "output_type": "stream",
     "text": [
      "----------------------------------------------------------------------------------------------------\n",
      "Experiment:  6_bart_contrastive_synonym\n"
     ]
    },
    {
     "data": {
      "text/html": [
       "<strong>Full Text</strong><br><span style=\"background-color:rgba(255,215,0,0.3);\">#Person2#</span> <span style=\"background-color:rgba(255,215,0,0.3);\">is</span> <span style=\"background-color:rgba(255,215,0,0.3);\">checking</span> <span style=\"background-color:rgba(255,215,0,0.3);\">out</span> <span style=\"background-color:rgba(255,215,0,0.3);\">and</span> asks <span style=\"background-color:rgba(255,215,0,0.3);\">#Person1#</span> for <span style=\"background-color:rgba(255,215,0,0.3);\">the</span> <span style=\"background-color:rgba(255,215,0,0.3);\">bill.</span> <span style=\"background-color:rgba(255,215,0,0.3);\">#Person1#</span> gives <span style=\"background-color:rgba(255,215,0,0.3);\">#Person2#</span> <span style=\"background-color:rgba(255,215,0,0.3);\">a</span> wrong <span style=\"background-color:rgba(255,215,0,0.3);\">bill</span> at first then corrects <span style=\"background-color:rgba(255,215,0,0.3);\">it.</span><br><strong>Actual Text</strong><br><span style=\"background-color:rgba(255,215,0,0.3);\">#Person2#</span> <span style=\"background-color:rgba(255,215,0,0.3);\">is</span> <span style=\"background-color:rgba(255,215,0,0.3);\">checking</span> <span style=\"background-color:rgba(255,215,0,0.3);\">out.</span> <span style=\"background-color:rgba(255,215,0,0.3);\">#Person1#</span> tells <span style=\"background-color:rgba(255,215,0,0.3);\">#Person2</span> # there has been <span style=\"background-color:rgba(255,215,0,0.3);\">a</span> mistake in <span style=\"background-color:rgba(255,215,0,0.3);\">the</span> <span style=\"background-color:rgba(255,215,0,0.3);\">bill</span> <span style=\"background-color:rgba(255,215,0,0.3);\">and</span> will correct <span style=\"background-color:rgba(255,215,0,0.3);\">it.</span>"
      ],
      "text/plain": [
       "<IPython.core.display.HTML object>"
      ]
     },
     "metadata": {},
     "output_type": "display_data"
    },
    {
     "name": "stdout",
     "output_type": "stream",
     "text": [
      "----------------------------------------------------------------------------------------------------\n",
      "Experiment:  7_bart_contrastive_combine\n"
     ]
    },
    {
     "data": {
      "text/html": [
       "<strong>Full Text</strong><br><span style=\"background-color:rgba(255,215,0,0.3);\">#Person2#</span> <span style=\"background-color:rgba(255,215,0,0.3);\">is</span> <span style=\"background-color:rgba(255,215,0,0.3);\">checking</span> <span style=\"background-color:rgba(255,215,0,0.3);\">out</span> <span style=\"background-color:rgba(255,215,0,0.3);\">and</span> asks <span style=\"background-color:rgba(255,215,0,0.3);\">#Person1#</span> for <span style=\"background-color:rgba(255,215,0,0.3);\">the</span> <span style=\"background-color:rgba(255,215,0,0.3);\">bill.</span> <span style=\"background-color:rgba(255,215,0,0.3);\">#Person1#</span> gives <span style=\"background-color:rgba(255,215,0,0.3);\">#Person2#</span> a <span style=\"background-color:rgba(255,215,0,0.3);\">wrong</span> <span style=\"background-color:rgba(255,215,0,0.3);\">bill</span> at first then corrects it.<br><strong>Actual Text</strong><br><span style=\"background-color:rgba(255,215,0,0.3);\">#Person2#</span> <span style=\"background-color:rgba(255,215,0,0.3);\">is</span> <span style=\"background-color:rgba(255,215,0,0.3);\">checking</span> <span style=\"background-color:rgba(255,215,0,0.3);\">out</span> <span style=\"background-color:rgba(255,215,0,0.3);\">and</span> finds <span style=\"background-color:rgba(255,215,0,0.3);\">the</span> <span style=\"background-color:rgba(255,215,0,0.3);\">bill</span> <span style=\"background-color:rgba(255,215,0,0.3);\">is</span> <span style=\"background-color:rgba(255,215,0,0.3);\">wrong.</span> <span style=\"background-color:rgba(255,215,0,0.3);\">#Person1#</span> apologizes <span style=\"background-color:rgba(255,215,0,0.3);\">and</span> will correct <span style=\"background-color:rgba(255,215,0,0.3);\">the</span> <span style=\"background-color:rgba(255,215,0,0.3);\">bill.</span>"
      ],
      "text/plain": [
       "<IPython.core.display.HTML object>"
      ]
     },
     "metadata": {},
     "output_type": "display_data"
    },
    {
     "name": "stdout",
     "output_type": "stream",
     "text": [
      "----------------------------------------------------------------------------------------------------\n",
      "Experiment:  8_bart_contrastive_combine_word_tagger_dialog\n"
     ]
    },
    {
     "data": {
      "text/html": [
       "<strong>Full Text</strong><br><span style=\"background-color:rgba(255,215,0,0.3);\">#Person2#</span> is checking <span style=\"background-color:rgba(255,215,0,0.3);\">out</span> <span style=\"background-color:rgba(255,215,0,0.3);\">and</span> asks <span style=\"background-color:rgba(255,215,0,0.3);\">#Person1#</span> <span style=\"background-color:rgba(255,215,0,0.3);\">for</span> <span style=\"background-color:rgba(255,215,0,0.3);\">the</span> <span style=\"background-color:rgba(255,215,0,0.3);\">bill.</span> <span style=\"background-color:rgba(255,215,0,0.3);\">#Person1#</span> gives <span style=\"background-color:rgba(255,215,0,0.3);\">#Person2#</span> a wrong <span style=\"background-color:rgba(255,215,0,0.3);\">bill</span> at first then corrects it.<br><strong>Actual Text</strong><br><span style=\"background-color:rgba(255,215,0,0.3);\">#Person1#</span> helps <span style=\"background-color:rgba(255,215,0,0.3);\">#Person2#</span> check <span style=\"background-color:rgba(255,215,0,0.3);\">out</span> <span style=\"background-color:rgba(255,215,0,0.3);\">and</span> finds <span style=\"background-color:rgba(255,215,0,0.3);\">the</span> charge <span style=\"background-color:rgba(255,215,0,0.3);\">for</span> laundry service on Nov. 20th has been added to someone else's <span style=\"background-color:rgba(255,215,0,0.3);\">bill.</span>"
      ],
      "text/plain": [
       "<IPython.core.display.HTML object>"
      ]
     },
     "metadata": {},
     "output_type": "display_data"
    },
    {
     "name": "stdout",
     "output_type": "stream",
     "text": [
      "----------------------------------------------------------------------------------------------------\n",
      "Experiment:  9_bart_contrastive_combine_prompt_tagger_dialog\n"
     ]
    },
    {
     "data": {
      "text/html": [
       "<strong>Full Text</strong><br><span style=\"background-color:rgba(255,215,0,0.3);\">#Person2#</span> <span style=\"background-color:rgba(255,215,0,0.3);\">is</span> checking <span style=\"background-color:rgba(255,215,0,0.3);\">out</span> <span style=\"background-color:rgba(255,215,0,0.3);\">and</span> asks <span style=\"background-color:rgba(255,215,0,0.3);\">#Person1#</span> for <span style=\"background-color:rgba(255,215,0,0.3);\">the</span> <span style=\"background-color:rgba(255,215,0,0.3);\">bill.</span> <span style=\"background-color:rgba(255,215,0,0.3);\">#Person1#</span> gives <span style=\"background-color:rgba(255,215,0,0.3);\">#Person2#</span> a wrong <span style=\"background-color:rgba(255,215,0,0.3);\">bill</span> at first then corrects it.<br><strong>Actual Text</strong><br><span style=\"background-color:rgba(255,215,0,0.3);\">#Person2#</span> checks <span style=\"background-color:rgba(255,215,0,0.3);\">out</span> <span style=\"background-color:rgba(255,215,0,0.3);\">and</span> finds <span style=\"background-color:rgba(255,215,0,0.3);\">the</span> laundry service charge <span style=\"background-color:rgba(255,215,0,0.3);\">is</span> added to someone else's <span style=\"background-color:rgba(255,215,0,0.3);\">bill.</span> <span style=\"background-color:rgba(255,215,0,0.3);\">#Person1#</span> apologizes <span style=\"background-color:rgba(255,215,0,0.3);\">and</span> will correct <span style=\"background-color:rgba(255,215,0,0.3);\">the</span> <span style=\"background-color:rgba(255,215,0,0.3);\">bill.</span>"
      ],
      "text/plain": [
       "<IPython.core.display.HTML object>"
      ]
     },
     "metadata": {},
     "output_type": "display_data"
    }
   ],
   "source": [
    "for num_method in list_method:\n",
    "    print(\"-\"*100)\n",
    "    print(\"Experiment: \", name_method[num_method])\n",
    "    match = display_string_matching(gold_summary_df.loc[num_example, list_gold_summary[gen_summary_num-1]], result_all_df[num_method].loc[num_example, list_gen_summary[gen_summary_num-1]], both=True, sentences=False, titles=[\"Full Text\", \"Actual Text\"])\n",
    "    display(HTML(match))"
   ]
  },
  {
   "cell_type": "code",
   "execution_count": 30,
   "id": "d6ed1e72-00f8-4f08-a147-0bd9af769d71",
   "metadata": {},
   "outputs": [
    {
     "name": "stdout",
     "output_type": "stream",
     "text": [
      "----------------------------------------------------------------------------------------------------\n",
      "Generated summary 0:\n"
     ]
    },
    {
     "data": {
      "text/html": [
       "<strong>Full Text</strong><br><span style=\"background-color:rgba(255,215,0,0.3);\">#Person2#</span> <span style=\"background-color:rgba(255,215,0,0.3);\">finds</span> <span style=\"background-color:rgba(255,215,0,0.3);\">#Person2#</span> being mischarged. <span style=\"background-color:rgba(255,215,0,0.3);\">#Person1#</span> corrects <span style=\"background-color:rgba(255,215,0,0.3);\">the</span> <span style=\"background-color:rgba(255,215,0,0.3);\">bill</span> <span style=\"background-color:rgba(255,215,0,0.3);\">and</span> <span style=\"background-color:rgba(255,215,0,0.3);\">#Person2#</span> pays for <span style=\"background-color:rgba(255,215,0,0.3);\">it.</span><br><strong>Actual Text</strong><br><span style=\"background-color:rgba(255,215,0,0.3);\">#Person2#</span> checks out <span style=\"background-color:rgba(255,215,0,0.3);\">and</span> <span style=\"background-color:rgba(255,215,0,0.3);\">finds</span> <span style=\"background-color:rgba(255,215,0,0.3);\">the</span> <span style=\"background-color:rgba(255,215,0,0.3);\">bill</span> has been wrong. <span style=\"background-color:rgba(255,215,0,0.3);\">#Person1#</span> will correct <span style=\"background-color:rgba(255,215,0,0.3);\">it.</span>"
      ],
      "text/plain": [
       "<IPython.core.display.HTML object>"
      ]
     },
     "metadata": {},
     "output_type": "display_data"
    },
    {
     "name": "stdout",
     "output_type": "stream",
     "text": [
      "----------------------------------------------------------------------------------------------------\n",
      "Generated summary 1:\n"
     ]
    },
    {
     "data": {
      "text/html": [
       "<strong>Full Text</strong><br><span style=\"background-color:rgba(255,215,0,0.3);\">#Person2#</span> <span style=\"background-color:rgba(255,215,0,0.3);\">is</span> <span style=\"background-color:rgba(255,215,0,0.3);\">checking</span> <span style=\"background-color:rgba(255,215,0,0.3);\">out</span> <span style=\"background-color:rgba(255,215,0,0.3);\">and</span> asks <span style=\"background-color:rgba(255,215,0,0.3);\">#Person1#</span> for <span style=\"background-color:rgba(255,215,0,0.3);\">the</span> <span style=\"background-color:rgba(255,215,0,0.3);\">bill.</span> <span style=\"background-color:rgba(255,215,0,0.3);\">#Person1#</span> gives <span style=\"background-color:rgba(255,215,0,0.3);\">#Person2#</span> a <span style=\"background-color:rgba(255,215,0,0.3);\">wrong</span> <span style=\"background-color:rgba(255,215,0,0.3);\">bill</span> at first then corrects it.<br><strong>Actual Text</strong><br><span style=\"background-color:rgba(255,215,0,0.3);\">#Person2#</span> <span style=\"background-color:rgba(255,215,0,0.3);\">is</span> <span style=\"background-color:rgba(255,215,0,0.3);\">checking</span> <span style=\"background-color:rgba(255,215,0,0.3);\">out</span> <span style=\"background-color:rgba(255,215,0,0.3);\">and</span> finds <span style=\"background-color:rgba(255,215,0,0.3);\">the</span> <span style=\"background-color:rgba(255,215,0,0.3);\">bill</span> has been <span style=\"background-color:rgba(255,215,0,0.3);\">wrong.</span> <span style=\"background-color:rgba(255,215,0,0.3);\">#Person1#</span> apologizes <span style=\"background-color:rgba(255,215,0,0.3);\">and</span> will correct <span style=\"background-color:rgba(255,215,0,0.3);\">the</span> <span style=\"background-color:rgba(255,215,0,0.3);\">bill.</span>"
      ],
      "text/plain": [
       "<IPython.core.display.HTML object>"
      ]
     },
     "metadata": {},
     "output_type": "display_data"
    },
    {
     "name": "stdout",
     "output_type": "stream",
     "text": [
      "----------------------------------------------------------------------------------------------------\n",
      "Generated summary 2:\n"
     ]
    },
    {
     "data": {
      "text/html": [
       "<strong>Full Text</strong><br><span style=\"background-color:rgba(255,215,0,0.3);\">#Person1#</span> helps <span style=\"background-color:rgba(255,215,0,0.3);\">#Person2#</span> <span style=\"background-color:rgba(255,215,0,0.3);\">correct</span> a mischarged <span style=\"background-color:rgba(255,215,0,0.3);\">bill</span> on laundry service <span style=\"background-color:rgba(255,215,0,0.3);\">and</span> helps <span style=\"background-color:rgba(255,215,0,0.3);\">#Person2#</span> check <span style=\"background-color:rgba(255,215,0,0.3);\">out.</span><br><strong>Actual Text</strong><br><span style=\"background-color:rgba(255,215,0,0.3);\">#Person2#</span> is checking <span style=\"background-color:rgba(255,215,0,0.3);\">out</span> <span style=\"background-color:rgba(255,215,0,0.3);\">and</span> finds the <span style=\"background-color:rgba(255,215,0,0.3);\">bill</span> has been wrong. <span style=\"background-color:rgba(255,215,0,0.3);\">#Person1#</span> will <span style=\"background-color:rgba(255,215,0,0.3);\">correct</span> it."
      ],
      "text/plain": [
       "<IPython.core.display.HTML object>"
      ]
     },
     "metadata": {},
     "output_type": "display_data"
    }
   ],
   "source": [
    "num_method = 4\n",
    "\n",
    "for gen_summary_num in range(3):\n",
    "    print(\"-\"*100)\n",
    "    print(f\"Generated summary {gen_summary_num}:\")\n",
    "    match = display_string_matching(gold_summary_df.loc[num_example, list_gold_summary[gen_summary_num-1]], result_all_df[num_method].loc[num_example, list_gen_summary[gen_summary_num-1]], both=True, sentences=False, titles=[\"Full Text\", \"Actual Text\"])\n",
    "    display(HTML(match))"
   ]
  },
  {
   "cell_type": "code",
   "execution_count": 31,
   "id": "36eb1ce8-47bd-4729-b969-c6f171e18203",
   "metadata": {},
   "outputs": [
    {
     "name": "stdout",
     "output_type": "stream",
     "text": [
      "Experiment:  4_bart_topic_length\n"
     ]
    },
    {
     "data": {
      "text/html": [
       "<strong>Full Text</strong><br><span style=\"background-color:rgba(255,215,0,0.3);\">#Person1#</span> helps <span style=\"background-color:rgba(255,215,0,0.3);\">#Person2#</span> <span style=\"background-color:rgba(255,215,0,0.3);\">correct</span> a mischarged <span style=\"background-color:rgba(255,215,0,0.3);\">bill</span> on laundry service <span style=\"background-color:rgba(255,215,0,0.3);\">and</span> helps <span style=\"background-color:rgba(255,215,0,0.3);\">#Person2#</span> check <span style=\"background-color:rgba(255,215,0,0.3);\">out.</span><br><strong>Actual Text</strong><br><span style=\"background-color:rgba(255,215,0,0.3);\">#Person2#</span> is checking <span style=\"background-color:rgba(255,215,0,0.3);\">out</span> <span style=\"background-color:rgba(255,215,0,0.3);\">and</span> finds the <span style=\"background-color:rgba(255,215,0,0.3);\">bill</span> has been wrong. <span style=\"background-color:rgba(255,215,0,0.3);\">#Person1#</span> will <span style=\"background-color:rgba(255,215,0,0.3);\">correct</span> it."
      ],
      "text/plain": [
       "<IPython.core.display.HTML object>"
      ]
     },
     "metadata": {},
     "output_type": "display_data"
    }
   ],
   "source": [
    "# num_example = 7\n",
    "# gen_summary_num = 1\n",
    "num_method = 4\n",
    "\n",
    "print(\"Experiment: \", name_method[num_method])\n",
    "match = display_string_matching(gold_summary_df.loc[num_example, list_gold_summary[gen_summary_num-1]], result_all_df[num_method].loc[num_example, list_gen_summary[gen_summary_num-1]], both=True, sentences=False, titles=[\"Full Text\", \"Actual Text\"])\n",
    "display(HTML(match))"
   ]
  },
  {
   "cell_type": "code",
   "execution_count": 32,
   "id": "fbf6f481-c626-488d-a58c-566ae9781134",
   "metadata": {},
   "outputs": [
    {
     "name": "stdout",
     "output_type": "stream",
     "text": [
      "Experiment:  7_bart_contrastive_combine\n"
     ]
    },
    {
     "data": {
      "text/html": [
       "<strong>Full Text</strong><br>#Person1# helps <span style=\"background-color:rgba(255,215,0,0.3);\">#Person2#</span> correct a mischarged bill on <span style=\"background-color:rgba(255,215,0,0.3);\">laundry</span> <span style=\"background-color:rgba(255,215,0,0.3);\">service</span> <span style=\"background-color:rgba(255,215,0,0.3);\">and</span> helps <span style=\"background-color:rgba(255,215,0,0.3);\">#Person2#</span> check <span style=\"background-color:rgba(255,215,0,0.3);\">out.</span><br><strong>Actual Text</strong><br><span style=\"background-color:rgba(255,215,0,0.3);\">#Person2#</span> checks <span style=\"background-color:rgba(255,215,0,0.3);\">out</span> with #Person1#'s assistance <span style=\"background-color:rgba(255,215,0,0.3);\">and</span> finds the <span style=\"background-color:rgba(255,215,0,0.3);\">laundry</span> <span style=\"background-color:rgba(255,215,0,0.3);\">service</span> charge is wrong."
      ],
      "text/plain": [
       "<IPython.core.display.HTML object>"
      ]
     },
     "metadata": {},
     "output_type": "display_data"
    }
   ],
   "source": [
    "# num_example = 7\n",
    "# gen_summary_num = 1\n",
    "num_method = 7\n",
    "\n",
    "print(\"Experiment: \", name_method[num_method])\n",
    "match = display_string_matching(gold_summary_df.loc[num_example, list_gold_summary[gen_summary_num-1]], result_all_df[num_method].loc[num_example, list_gen_summary[gen_summary_num-1]], both=True, sentences=False, titles=[\"Full Text\", \"Actual Text\"])\n",
    "display(HTML(match))"
   ]
  },
  {
   "cell_type": "code",
   "execution_count": 33,
   "id": "fc39c5b8-370e-42a0-81de-6cfc41ef1837",
   "metadata": {},
   "outputs": [
    {
     "name": "stdout",
     "output_type": "stream",
     "text": [
      "Experiment:  7_bart_contrastive_combine\n"
     ]
    },
    {
     "data": {
      "text/html": [
       "<strong>Full Text</strong><br><span style=\"background-color:rgba(255,215,0,0.3);\">#Person2#</span> <span style=\"background-color:rgba(255,215,0,0.3);\">is</span> <span style=\"background-color:rgba(255,215,0,0.3);\">checking</span> <span style=\"background-color:rgba(255,215,0,0.3);\">out</span> <span style=\"background-color:rgba(255,215,0,0.3);\">and</span> asks <span style=\"background-color:rgba(255,215,0,0.3);\">#Person1#</span> for <span style=\"background-color:rgba(255,215,0,0.3);\">the</span> <span style=\"background-color:rgba(255,215,0,0.3);\">bill.</span> <span style=\"background-color:rgba(255,215,0,0.3);\">#Person1#</span> gives <span style=\"background-color:rgba(255,215,0,0.3);\">#Person2#</span> a <span style=\"background-color:rgba(255,215,0,0.3);\">wrong</span> <span style=\"background-color:rgba(255,215,0,0.3);\">bill</span> at first then corrects it.<br><strong>Actual Text</strong><br><span style=\"background-color:rgba(255,215,0,0.3);\">#Person2#</span> <span style=\"background-color:rgba(255,215,0,0.3);\">is</span> <span style=\"background-color:rgba(255,215,0,0.3);\">checking</span> <span style=\"background-color:rgba(255,215,0,0.3);\">out</span> <span style=\"background-color:rgba(255,215,0,0.3);\">and</span> finds <span style=\"background-color:rgba(255,215,0,0.3);\">the</span> <span style=\"background-color:rgba(255,215,0,0.3);\">bill</span> <span style=\"background-color:rgba(255,215,0,0.3);\">is</span> <span style=\"background-color:rgba(255,215,0,0.3);\">wrong.</span> <span style=\"background-color:rgba(255,215,0,0.3);\">#Person1#</span> apologizes <span style=\"background-color:rgba(255,215,0,0.3);\">and</span> will correct <span style=\"background-color:rgba(255,215,0,0.3);\">the</span> <span style=\"background-color:rgba(255,215,0,0.3);\">bill.</span>"
      ],
      "text/plain": [
       "<IPython.core.display.HTML object>"
      ]
     },
     "metadata": {},
     "output_type": "display_data"
    }
   ],
   "source": [
    "# num_example = 7\n",
    "gen_summary_num = 1\n",
    "num_method = 7\n",
    "\n",
    "print(\"Experiment: \", name_method[num_method])\n",
    "match = display_string_matching(gold_summary_df.loc[num_example, list_gold_summary[gen_summary_num-1]], result_all_df[num_method].loc[num_example, list_gen_summary[gen_summary_num-1]], both=True, sentences=False, titles=[\"Full Text\", \"Actual Text\"])\n",
    "display(HTML(match))"
   ]
  },
  {
   "cell_type": "code",
   "execution_count": 34,
   "id": "74029489-5cf8-4cfb-bfbf-cb1e259ed08c",
   "metadata": {},
   "outputs": [
    {
     "name": "stdout",
     "output_type": "stream",
     "text": [
      "Experiment:  7_bart_contrastive_combine\n"
     ]
    },
    {
     "data": {
      "text/html": [
       "<strong>Full Text</strong><br>#Person1# helps <span style=\"background-color:rgba(255,215,0,0.3);\">#Person2#</span> correct a mischarged bill on <span style=\"background-color:rgba(255,215,0,0.3);\">laundry</span> <span style=\"background-color:rgba(255,215,0,0.3);\">service</span> <span style=\"background-color:rgba(255,215,0,0.3);\">and</span> helps <span style=\"background-color:rgba(255,215,0,0.3);\">#Person2#</span> check <span style=\"background-color:rgba(255,215,0,0.3);\">out.</span><br><strong>Actual Text</strong><br><span style=\"background-color:rgba(255,215,0,0.3);\">#Person2#</span> checks <span style=\"background-color:rgba(255,215,0,0.3);\">out</span> with #Person1#'s assistance <span style=\"background-color:rgba(255,215,0,0.3);\">and</span> finds the <span style=\"background-color:rgba(255,215,0,0.3);\">laundry</span> <span style=\"background-color:rgba(255,215,0,0.3);\">service</span> charge is wrong."
      ],
      "text/plain": [
       "<IPython.core.display.HTML object>"
      ]
     },
     "metadata": {},
     "output_type": "display_data"
    }
   ],
   "source": [
    "# num_example = 7\n",
    "gen_summary_num = 2\n",
    "# num_method = 4\n",
    "\n",
    "print(\"Experiment: \", name_method[num_method])\n",
    "match = display_string_matching(gold_summary_df.loc[num_example, list_gold_summary[gen_summary_num-1]], result_all_df[num_method].loc[num_example, list_gen_summary[gen_summary_num-1]], both=True, sentences=False, titles=[\"Full Text\", \"Actual Text\"])\n",
    "display(HTML(match))"
   ]
  },
  {
   "cell_type": "code",
   "execution_count": null,
   "id": "89b5c0af-d61e-4511-815a-466084700c03",
   "metadata": {},
   "outputs": [],
   "source": [
    "# num_example = 7\n",
    "gen_summary_num = 3\n",
    "# num_method = 4\n",
    "\n",
    "print(\"Experiment: \", name_method[num_method])\n",
    "match = display_string_matching(gold_summary_df.loc[num_example, list_gold_summary[gen_summary_num-1]], result_all_df[num_method].loc[num_example, list_gen_summary[gen_summary_num-1]], both=True, sentences=False, titles=[\"Full Text\", \"Actual Text\"])\n",
    "display(HTML(match))"
   ]
  },
  {
   "cell_type": "code",
   "execution_count": null,
   "id": "9e84ad77-41b0-4ae7-9a2d-772346599607",
   "metadata": {},
   "outputs": [],
   "source": []
  },
  {
   "cell_type": "code",
   "execution_count": null,
   "id": "93013856-1a89-4ae1-a0a2-58f6a9eff9a1",
   "metadata": {},
   "outputs": [],
   "source": []
  }
 ],
 "metadata": {
  "kernelspec": {
   "display_name": "Python 3 (ipykernel)",
   "language": "python",
   "name": "python3"
  },
  "language_info": {
   "codemirror_mode": {
    "name": "ipython",
    "version": 3
   },
   "file_extension": ".py",
   "mimetype": "text/x-python",
   "name": "python",
   "nbconvert_exporter": "python",
   "pygments_lexer": "ipython3",
   "version": "3.10.6"
  }
 },
 "nbformat": 4,
 "nbformat_minor": 5
}
