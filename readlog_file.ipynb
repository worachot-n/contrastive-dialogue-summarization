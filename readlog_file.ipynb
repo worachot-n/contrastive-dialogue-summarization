{
 "cells": [
  {
   "cell_type": "code",
   "execution_count": 119,
   "metadata": {},
   "outputs": [],
   "source": [
    "import re\n",
    "import numpy as np\n",
    "import matplotlib.pyplot as plt"
   ]
  },
  {
   "cell_type": "code",
   "execution_count": null,
   "metadata": {},
   "outputs": [],
   "source": [
    "name_method = {1: '1_bart_noprompt', 2: '2_bart_topic', 3: '3_bart_length', \n",
    "               4: '4_bart_topic_length', 5: '5_bart_contrastive_random', 6: '6_bart_contrastive_synonym',\n",
    "               7: '7_bart_contrastive_combine', 8: '8_bart_contrastive_combine_word_tagger', 9: '9_bart-contrastive-combine-prompt-tagger',\n",
    "               10: '10_bart_contrastive_random_negative(5)', 11: '11_bart_contrastive_synonym_positive(6)', 12: '12_bart_contrastive_combine_pos_neg(7)',\n",
    "               13: '13_bart_topic_length_word_tagger(4)', 14: '14_bart_topic_length_word_tagger(4)',\n",
    "               15: '15_bart_topic_word_tagger', 16: '16_bart_topic_contrastive_combine', 17: '17_bart_topic_contrastive_combine_word_tagger'}"
   ]
  },
  {
   "cell_type": "code",
   "execution_count": 110,
   "metadata": {},
   "outputs": [],
   "source": [
    "sheet_name = range(1, 18)"
   ]
  },
  {
   "cell_type": "code",
   "execution_count": 111,
   "metadata": {},
   "outputs": [
    {
     "data": {
      "text/plain": [
       "range(1, 18)"
      ]
     },
     "execution_count": 111,
     "metadata": {},
     "output_type": "execute_result"
    }
   ],
   "source": [
    "sheet_name"
   ]
  },
  {
   "cell_type": "code",
   "execution_count": 116,
   "metadata": {},
   "outputs": [],
   "source": [
    "all_list = {}\n",
    "for i in sheet_name:\n",
    "    line_list = []\n",
    "    with open(f'./output/{i}/gen_samples/{i}.out') as f:\n",
    "        for line in f:\n",
    "            if 'loss' in line:\n",
    "                txt = line\n",
    "                x = re.split(\"loss=\", txt)\n",
    "                y = re.split(\", lr=\", x[-1]) \n",
    "                line_list.append(y[0])\n",
    "    all_list[i] = np.array(line_list[2: ], dtype=float)\n",
    "        # print(contents)"
   ]
  },
  {
   "cell_type": "code",
   "execution_count": 117,
   "metadata": {},
   "outputs": [
    {
     "data": {
      "text/plain": [
       "array([4.77, 4.77, 4.  , ..., 1.98, 1.98, 1.98])"
      ]
     },
     "execution_count": 117,
     "metadata": {},
     "output_type": "execute_result"
    }
   ],
   "source": [
    "all_list[1]"
   ]
  },
  {
   "cell_type": "code",
   "execution_count": 118,
   "metadata": {},
   "outputs": [
    {
     "name": "stdout",
     "output_type": "stream",
     "text": [
      "2940\n",
      "2940\n",
      "2940\n",
      "2940\n",
      "2940\n",
      "2940\n",
      "2940\n",
      "2940\n",
      "2940\n",
      "2940\n",
      "2940\n",
      "2940\n",
      "2940\n",
      "2940\n",
      "2940\n",
      "2940\n",
      "2940\n"
     ]
    }
   ],
   "source": [
    "for i in sheet_name:\n",
    "    print(len(all_list[i]))"
   ]
  },
  {
   "cell_type": "code",
   "execution_count": 121,
   "metadata": {},
   "outputs": [],
   "source": [
    "sheet_num = 1"
   ]
  },
  {
   "cell_type": "code",
   "execution_count": 128,
   "metadata": {},
   "outputs": [],
   "source": [
    "name_method = {1: '1_bart_noprompt (bart-ธรรมดา)', \n",
    "               2: '2_bart_topic', \n",
    "               16: '16_bart_topic_contrastive_combine (topic-contrastive)',\n",
    "               3: '3_bart_length (bin-wang)', \n",
    "               4: '4_bart_topic_length', \n",
    "               7: '7_bart_contrastive_combine (topic-length-contrastive)'}"
   ]
  },
  {
   "cell_type": "code",
   "execution_count": 129,
   "metadata": {},
   "outputs": [],
   "source": [
    "sheet_nums = name_method.keys()"
   ]
  },
  {
   "cell_type": "code",
   "execution_count": 132,
   "metadata": {},
   "outputs": [
    {
     "data": {
      "image/png": "[encoded data removed]",
      "text/plain": [
       "<Figure size 640x480 with 1 Axes>"
      ]
     },
     "metadata": {},
     "output_type": "display_data"
    }
   ],
   "source": [
    "# define data values\n",
    "for sheet_num in sheet_nums:\n",
    "    x = np.array(range(len(all_list[sheet_num])))  # X-axis points\n",
    "    y = all_list[sheet_num]\n",
    "    plt.plot(x, y, label = name_method[sheet_num])  # Plot the chart\n",
    "plt.show()  # display"
   ]
  },
  {
   "cell_type": "code",
   "execution_count": 100,
   "metadata": {},
   "outputs": [
    {
     "data": {
      "text/plain": [
       "2942"
      ]
     },
     "execution_count": 100,
     "metadata": {},
     "output_type": "execute_result"
    }
   ],
   "source": [
    "len(line_list)"
   ]
  },
  {
   "cell_type": "code",
   "execution_count": 59,
   "metadata": {},
   "outputs": [
    {
     "data": {
      "text/plain": [
       "'Training: 100%|████████████████████████████████████████████████████████████████████████████████████████████████████| 1470/1470 [2:34:00<00:00,  5.15s/it, loss=2.04, lr=3.4e-8]'"
      ]
     },
     "execution_count": 59,
     "metadata": {},
     "output_type": "execute_result"
    }
   ],
   "source": [
    "line_list[-3]"
   ]
  },
  {
   "cell_type": "code",
   "execution_count": 50,
   "metadata": {},
   "outputs": [
    {
     "name": "stdout",
     "output_type": "stream",
     "text": [
      "1.96\n"
     ]
    }
   ],
   "source": [
    "txt = line_list[-3]\n",
    "x = re.split(\"loss=\", txt)\n",
    "y = re.split(\", lr=\", x[-1]) \n",
    "print(y[0])"
   ]
  },
  {
   "cell_type": "code",
   "execution_count": null,
   "metadata": {},
   "outputs": [],
   "source": []
  }
 ],
 "metadata": {
  "kernelspec": {
   "display_name": "Python 3",
   "language": "python",
   "name": "python3"
  },
  "language_info": {
   "codemirror_mode": {
    "name": "ipython",
    "version": 3
   },
   "file_extension": ".py",
   "mimetype": "text/x-python",
   "name": "python",
   "nbconvert_exporter": "python",
   "pygments_lexer": "ipython3",
   "version": "3.11.5"
  }
 },
 "nbformat": 4,
 "nbformat_minor": 2
}
