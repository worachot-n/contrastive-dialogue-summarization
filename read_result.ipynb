{
 "cells": [
  {
   "cell_type": "code",
   "execution_count": 1,
   "id": "c1758596-23c5-4005-b7d4-164cc2a51b5b",
   "metadata": {},
   "outputs": [],
   "source": [
    "import os\n",
    "# !rm -rf ./output/topic-length/gen_samples/.ipynb_checkpoints"
   ]
  },
  {
   "cell_type": "code",
   "execution_count": 2,
   "id": "bcff4891",
   "metadata": {},
   "outputs": [],
   "source": [
    "total_method = 14"
   ]
  },
  {
   "cell_type": "code",
   "execution_count": 3,
   "id": "31b5f6cf-92b8-47e9-8cfb-d8831c02807e",
   "metadata": {},
   "outputs": [],
   "source": [
    "def list_all_file(path):\n",
    "    dir_list = os.listdir(path)\n",
    "    sort_dir_list = sorted(dir_list)\n",
    "    return sort_dir_list\n",
    "\n",
    "def extract_file(file_name):\n",
    "    with open(file_name) as f:\n",
    "        lines = f.readlines()\n",
    "    particular_value = 'Generate Summary:\\n'\n",
    "    result = []\n",
    "    temp_list = []\n",
    "    for i in lines:\n",
    "        if i == particular_value:\n",
    "            temp_list.append(i)\n",
    "            result.append(temp_list)\n",
    "            temp_list = []\n",
    "        else:\n",
    "            temp_list.append(i)\n",
    "    # print(temp_list)\n",
    "    generate = temp_list[0]\n",
    "    return generate\n",
    "\n",
    "def make_name(filename):\n",
    "    name, sum = filename.split('_sum')\n",
    "    summ, _ = sum.split('.txt')\n",
    "    summary = \"summary\" + summ\n",
    "    return name, summary\n",
    "\n",
    "def build_result(path, filename):\n",
    "    name, summary = make_name(filename)\n",
    "    local_path = path + filename\n",
    "    texts = extract_file(local_path)\n",
    "    return name, summary, texts"
   ]
  },
  {
   "cell_type": "code",
   "execution_count": 4,
   "id": "cae0d97a-9ae2-405d-8f79-b9a220256126",
   "metadata": {
    "tags": []
   },
   "outputs": [
    {
     "name": "stdout",
     "output_type": "stream",
     "text": [
      "Current Directory d:\\thesis\\topic-length\n"
     ]
    }
   ],
   "source": [
    "path = os.getcwd()\n",
    "print(\"Current Directory\", path)\n",
    "\n",
    "# prints parent directory\n",
    "parent_path = os.path.abspath(os.path.join(path, os.pardir))"
   ]
  },
  {
   "cell_type": "code",
   "execution_count": 12,
   "id": "b64db3a8-0dd4-45ec-8050-ed6991e31e0d",
   "metadata": {
    "tags": []
   },
   "outputs": [],
   "source": [
    "name_method = {1: '1_bart_noprompt', 2: '2_bart_topic', 3: '3_bart_length', \n",
    "               4: '4_bart_topic_length', 5: '5_bart_contrastive_random', 6: '6_bart_contrastive_synonym',\n",
    "               7: '7_bart_contrastive_combine', 8: '8_bart_contrastive_combine_word_tagger', 9: '9_bart-contrastive-combine-prompt-tagger',\n",
    "               10: '10_bart_contrastive_random_negative(5)', 11: '11_bart_contrastive_synonym_positive(6)', 12: '12_bart_contrastive_combine_pos_neg(7)',\n",
    "               13: '13_bart_topic_length_word_tagger(4)', 14: '14_bart_topic_length_word_tagger(4)'}"
   ]
  },
  {
   "cell_type": "code",
   "execution_count": 13,
   "id": "7727601f",
   "metadata": {},
   "outputs": [],
   "source": [
    "list_method = list(range(1 ,total_method + 1))\n",
    "result_dict = {}\n",
    "for i in list_method:\n",
    "    deep_path = \"./output/\" + str(i) + \"/gen_samples/\"\n",
    "    dir_list = os.listdir(deep_path)\n",
    "    list_dir = []\n",
    "    for indx in range(0,500):\n",
    "        method_dict = {}\n",
    "        try:\n",
    "            num_name = f'test_{indx}'\n",
    "            method_dict['fname'] = num_name\n",
    "            gen1 = extract_file(deep_path+'/'+num_name+'_sum1.txt')\n",
    "            gen2 = extract_file(deep_path+'/'+num_name+'_sum2.txt')\n",
    "            gen3 = extract_file(deep_path+'/'+num_name+'_sum3.txt')\n",
    "            method_dict['gen_summary1'] = gen1\n",
    "            method_dict['gen_summary2'] = gen2\n",
    "            method_dict['gen_summary3'] = gen3\n",
    "        except:\n",
    "            pass\n",
    "        list_dir.append(method_dict)\n",
    "    result_dict[i] = list_dir\n"
   ]
  },
  {
   "cell_type": "code",
   "execution_count": 14,
   "id": "ad49d51f",
   "metadata": {},
   "outputs": [
    {
     "data": {
      "text/plain": [
       "{'fname': 'test_0',\n",
       " 'gen_summary1': '#Person1# asks Ms. Dawson to take a dictation for him and tells her the new office communications are restricted to email correspondence and official memos and the use of Instant Message programs is strictly prohibited. Any employee who persists in using Instant Messaging will first receive a warning and be placed on probation.',\n",
       " 'gen_summary2': '#Person1# asks Ms. Dawson to take a dictation for him and tells her the new office communications are restricted to email correspondence and official memos and the use of Instant Message programs is strictly prohibited. Any employee who persists in using Instant Messaging will first receive a warning and be placed on probation.',\n",
       " 'gen_summary3': '#Person1# asks Ms. Dawson to take a dictation for him and tells her the new office communications are restricted to email correspondence and official memos and the use of Instant Message programs is strictly prohibited. Any employee who persists in using Instant Messaging will first receive a warning and be placed on probation.'}"
      ]
     },
     "execution_count": 14,
     "metadata": {},
     "output_type": "execute_result"
    }
   ],
   "source": [
    "result_dict[1][0]"
   ]
  },
  {
   "cell_type": "code",
   "execution_count": 15,
   "id": "b5ab0167",
   "metadata": {},
   "outputs": [
    {
     "name": "stdout",
     "output_type": "stream",
     "text": [
      "{'fname': 'test_0', 'gen_summary1': '#Person1# asks Ms. Dawson to take a dictation for him and tells her the new office communications are restricted to email correspondence and official memos and the use of Instant Message programs is strictly prohibited. Any employee who persists in using Instant Messaging will first receive a warning and be placed on probation.', 'gen_summary2': '#Person1# asks Ms. Dawson to take a dictation for him and tells her the new office communications are restricted to email correspondence and official memos and the use of Instant Message programs is strictly prohibited. Any employee who persists in using Instant Messaging will first receive a warning and be placed on probation.', 'gen_summary3': '#Person1# asks Ms. Dawson to take a dictation for him and tells her the new office communications are restricted to email correspondence and official memos and the use of Instant Message programs is strictly prohibited. Any employee who persists in using Instant Messaging will first receive a warning and be placed on probation.'}\n"
     ]
    }
   ],
   "source": [
    "for num_method in list_method:\n",
    "    print(result_dict[num_method][0])\n",
    "    break"
   ]
  },
  {
   "cell_type": "code",
   "execution_count": 16,
   "id": "1be89a18-f215-4941-bc12-05b1caf6cc61",
   "metadata": {
    "tags": []
   },
   "outputs": [
    {
     "name": "stdout",
     "output_type": "stream",
     "text": [
      "Total number of dialogue: 500\n",
      "Eample No:  test_1\n",
      "------------------------------------------------------------------------------------------------------------------------------------------------------\n",
      "Method: 1_bart_noprompt\n",
      "gen_summary1:  #Person2# got stuck in traffic again. #Person1# suggests taking public transport system to work and biking to work.\n",
      "gen_summary2:  #Person2# got stuck in traffic again. #Person1# suggests taking public transport system to work and biking to work.\n",
      "gen_summary3:  #Person2# got stuck in traffic again. #Person1# suggests taking public transport system to work and biking to work.\n",
      "------------------------------------------------------------------------------------------------------------------------------------------------------\n",
      "Method: 2_bart_topic\n",
      "gen_summary1:  #Person2# got stuck in traffic again. #Person1# suggests #Person2 # start taking public transportation system to work because it's better for the environment and #Person3# agrees.\n",
      "gen_summary2:  #Person2# got stuck in traffic again. #Person1# suggests #Person2 # start taking the public transport system to work because it's good for the environment and #Person3# suggests biking to work when it's nicer outside.\n",
      "gen_summary3:  #Person2# got stuck in traffic again. #Person1# suggests #Person 2# take the public transport system to work and suggests biking to work when it's nicer outside, but #Person2 # thinks it's not good for him or for the environment.\n",
      "------------------------------------------------------------------------------------------------------------------------------------------------------\n",
      "Method: 3_bart_length\n",
      "gen_summary1:  #Person2# got stuck in traffic again. #Person1# suggests #Person2 # start taking public transport system to work because it's better for the environment.\n",
      "gen_summary2:  #Person2# got stuck in traffic again. #Person1# suggests #Person2 # start taking public transport system to work and quit driving.\n",
      "gen_summary3:  #Person2# got stuck in traffic again and #Person1# suggests #Person2 # start taking public transport system to work.\n",
      "------------------------------------------------------------------------------------------------------------------------------------------------------\n",
      "Method: 4_bart_topic_length\n",
      "gen_summary1:  #Person2# got stuck in traffic again. #Person1# suggests #Person2 # start taking public transportation system to work because it's better for the environment.\n",
      "gen_summary2:  #Person2# got stuck in traffic again and #Person1# suggests #Person2 # start taking public transport system to work.\n",
      "gen_summary3:  #Person2# got stuck in traffic again and #Person1# suggests #Person2 # start taking public transport system to work.\n",
      "------------------------------------------------------------------------------------------------------------------------------------------------------\n",
      "Method: 5_bart_contrastive_random\n",
      "gen_summary1:  #Person2# got stuck in traffic again. #Person1# suggests #Person2 # start taking public transportation system to work because it's better for the environment.\n",
      "gen_summary2:  #Person2# got stuck in traffic again and #Person1# suggests #Person2 # start taking public transport system to work.\n",
      "gen_summary3:  #Person2# got stuck in traffic again and #Person1# suggests #Person2 # start taking public transport system to work.\n",
      "------------------------------------------------------------------------------------------------------------------------------------------------------\n",
      "Method: 6_bart_contrastive_synonym\n",
      "gen_summary1:  #Person2# got stuck in traffic again. #Person1# suggests #Person2 # start taking public transportation system to work because it's better for the environment.\n",
      "gen_summary2:  #Person2# got stuck in traffic again. #Person1# suggests #Person2 # start taking public transport system to work.\n",
      "gen_summary3:  #Person2# got stuck in traffic again. #Person1# suggests #Person2 # start taking public transport system to work.\n",
      "------------------------------------------------------------------------------------------------------------------------------------------------------\n",
      "Method: 7_bart_contrastive_combine\n",
      "gen_summary1:  #Person2# got stuck in traffic again and #Person1# suggests #Person2 # start taking public transport system to work. #Person 2# will consider it.\n",
      "gen_summary2:  #Person2# got stuck in traffic again and #Person1# suggests #Person2 # start taking public transport system to work.\n",
      "gen_summary3:  #Person2# got stuck in traffic again and #Person1# suggests #Person2 # start taking public transport system to work.\n",
      "------------------------------------------------------------------------------------------------------------------------------------------------------\n",
      "Method: 8_bart_contrastive_combine_word_tagger\n",
      "gen_summary1:  #Person2# got stuck in traffic again. #Person1# suggests #Person2 # start taking the public transportation system to work because it's better for the environment.\n",
      "gen_summary2:  #Person2# got stuck in traffic again. #Person1# suggests #Person2 # start taking the public transport system to work.\n",
      "gen_summary3:  #Person2# got stuck in traffic again. #Person1# suggests #Person2 # start taking the public transport system to work.\n",
      "------------------------------------------------------------------------------------------------------------------------------------------------------\n",
      "Method: 9_bart-contrastive-combine-prompt-tagger\n",
      "gen_summary1:  #Person2# got stuck in traffic again. #Person1# suggests #Person2 # start taking the public transportation system to work because it's better for the environment.\n",
      "gen_summary2:  #Person2# got stuck in traffic again. #Person1# suggests #Person2 # start taking public transport system to work and biking to work when it's nicer outside.\n",
      "gen_summary3:  #Person2# got stuck in traffic again. #Person1# suggests #Person2 # start taking the public transport system to work.\n",
      "------------------------------------------------------------------------------------------------------------------------------------------------------\n",
      "Method: 10_bart_contrastive_random_negative(5)\n",
      "gen_summary1:  #Person2# got stuck in traffic again. #Person1# suggests #Person2 # start taking public transport system to work because it's better for the environment.\n",
      "gen_summary2:  #Person2# got stuck in traffic again. #Person1# suggests taking the public transport system to work and biking to work.\n",
      "gen_summary3:  #Person2# got stuck in traffic again. #Person1# suggests taking the public transport system to work and biking to work.\n",
      "------------------------------------------------------------------------------------------------------------------------------------------------------\n",
      "Method: 11_bart_contrastive_synonym_positive(6)\n",
      "gen_summary1:  #Person2# got stuck in traffic again. #Person1# suggests #Person2 # start taking the public transport system to work because it's good for the environment and gives #Person 2# more freedom.\n",
      "gen_summary2:  #Person2# got stuck in traffic again. #Person1# suggests taking the public transport system to work, which would be better for the environment.\n",
      "gen_summary3:  #Person2# got stuck in traffic again. #Person1# suggests taking the public transport system to work, which is better for the environment.\n",
      "------------------------------------------------------------------------------------------------------------------------------------------------------\n",
      "Method: 12_bart_contrastive_combine_pos_neg(7)\n",
      "gen_summary1:  #Person2# got stuck in traffic again. #Person1# suggests #Person2 # start taking public transport system to work and start biking when it's nicer outside.\n",
      "gen_summary2:  #Person2# got stuck in traffic again and #Person1# suggests #Person2 # start taking public transport system to work.\n",
      "gen_summary3:  #Person2# got stuck in traffic again. #Person1# suggests #Person2 # start taking public transport system to work.\n",
      "------------------------------------------------------------------------------------------------------------------------------------------------------\n",
      "Method: 13_bart_topic_length_word_tagger(4)\n",
      "gen_summary1:  #Person2# got stuck in traffic again. #Person1# suggests taking the public transportation system to work and thinks it's better for the environment.\n",
      "gen_summary2:  #Person2# got stuck in traffic again. #Person1# suggests taking the public transport system to work and biking to work.\n",
      "gen_summary3:  #Person2# got stuck in traffic again. #Person1# suggests taking the public transport system to work and biking to work.\n",
      "------------------------------------------------------------------------------------------------------------------------------------------------------\n",
      "Method: 14_bart_topic_length_word_tagger(4)\n",
      "gen_summary1:  #Person2# got stuck in traffic again. #Person1# suggests #Person2 # start taking the public transportation system to work, which would be better for the environment.\n",
      "gen_summary2:  #Person2# got stuck in traffic again. #Person1# suggests #Person2 # start taking public transport system to work and quit driving.\n",
      "gen_summary3:  #Person2# got stuck in traffic again. #Person1# suggests taking the public transport system to work and biking to work.\n",
      "------------------------------------------------------------------------------------------------------------------------------------------------------\n"
     ]
    }
   ],
   "source": [
    "num_example = 1\n",
    "print(f\"Total number of dialogue: {len(result_dict[list_method[0]])}\")\n",
    "# print(\"-\"*150)\n",
    "for num_method in list_method:\n",
    "    if num_method == 1:\n",
    "        print(\"Eample No: \", result_dict[num_method][num_example]['fname'])\n",
    "        print(\"-\"*150)\n",
    "    print(f\"Method: {name_method[num_method]}\")\n",
    "    print(\"gen_summary1: \", result_dict[num_method][num_example]['gen_summary1'])\n",
    "    print(\"gen_summary2: \", result_dict[num_method][num_example]['gen_summary2'])\n",
    "    print(\"gen_summary3: \", result_dict[num_method][num_example]['gen_summary3'])\n",
    "    print(\"-\"*150)"
   ]
  },
  {
   "cell_type": "code",
   "execution_count": 18,
   "id": "1c4eca0b-fddc-4b22-98b7-99f123911b94",
   "metadata": {},
   "outputs": [],
   "source": [
    "import json\n",
    "for i in list_method:\n",
    "    with open(f\"./result/{i}.jsonl\", \"w\") as outfile:\n",
    "        for j in range(len(result_dict[i])):\n",
    "            json.dump(result_dict[i][j], outfile)\n",
    "            outfile.write('\\n')"
   ]
  },
  {
   "cell_type": "code",
   "execution_count": null,
   "id": "77f6580f",
   "metadata": {},
   "outputs": [],
   "source": []
  }
 ],
 "metadata": {
  "kernelspec": {
   "display_name": "Python 3 (ipykernel)",
   "language": "python",
   "name": "python3"
  },
  "language_info": {
   "codemirror_mode": {
    "name": "ipython",
    "version": 3
   },
   "file_extension": ".py",
   "mimetype": "text/x-python",
   "name": "python",
   "nbconvert_exporter": "python",
   "pygments_lexer": "ipython3",
   "version": "3.11.5"
  }
 },
 "nbformat": 4,
 "nbformat_minor": 5
}
