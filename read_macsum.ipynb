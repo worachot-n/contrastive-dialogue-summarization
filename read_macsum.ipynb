{
 "cells": [
  {
   "cell_type": "code",
   "execution_count": 1,
   "metadata": {},
   "outputs": [],
   "source": [
    "import json\n",
    "\n",
    "file_path = './data/macdial_flatten/train.json'"
   ]
  },
  {
   "cell_type": "code",
   "execution_count": 24,
   "metadata": {},
   "outputs": [],
   "source": [
    "data = []\n",
    "\n",
    "with open(file_path, \"r\") as f:\n",
    "    # for line in f:\n",
    "    # data.append(json.loads(f))\n",
    "    raw_data = f.read()\n",
    "    data = json.loads(raw_data)\n",
    "    \n",
    "data_length = len(data)"
   ]
  },
  {
   "cell_type": "code",
   "execution_count": 25,
   "metadata": {},
   "outputs": [
    {
     "data": {
      "text/plain": [
       "2338"
      ]
     },
     "execution_count": 25,
     "metadata": {},
     "output_type": "execute_result"
    }
   ],
   "source": [
    "len(data)"
   ]
  },
  {
   "cell_type": "code",
   "execution_count": 26,
   "metadata": {},
   "outputs": [
    {
     "data": {
      "text/plain": [
       "{'article': \"Industrial Designer : Okay well um . So our design looks something like this . This being the wheel that you use to uh change channels or volume or whatever . This is a button , serves as the power button if you hold it down , and if you just tap on it I think it brings up the menu . And uh the base of the remote control , which has a squishy spongy rubbery feel , is interchangeable . So you can change the colour , according to your {disfmarker} to suit your living room or whatever . And it comes {disfmarker} </s> User Interface : You could change the vegetable , or fruit . </s> Industrial Designer : yeah , I can change the vegetable . </s> Project Manager : Oh is that broccoli ? {vocalsound} </s> Industrial Designer : This one's broccoli {vocalsound} . </s> User Interface : Yeah . </s> Industrial Designer : So this snaps off and you can put on whichever one you want . This is not to scale 'cause it would have the battery inside it . This is a mango . </s> Project Manager : {vocalsound} </s> Industrial Designer : The {disfmarker} it's trendy fruit , it's not just ordinary fruits . </s> Marketing : {vocalsound} </s> Industrial Designer : You don't have orange , you have mango . Um I guess strawberry's not as trendy , but {disfmarker} {vocalsound} </s> Project Manager : 'S a very bright strawberry . {vocalsound} </s> Industrial Designer : So we'll come up with a variety of trendy and exciting fruit designs for the remote control . And then people will be encouraged to buy three or five of them , because they'll need to switch 'em out . </s> User Interface : It's been a l </s> Project Manager : {vocalsound} </s> User Interface : It's been a little bit difficult to um make sure that it's hand-holdable , and that the user can use it , you know , it's not too big . Uh but we think that this you know , this size will be okay and we will have to fit the battery case in there somehow . </s> Industrial Designer : Mm-hmm . </s> Project Manager : Oh yeah . </s> User Interface : And I guess the only other thing that we really didn't talk about was {disfmarker} or design yet actually , would be the um thing {disfmarker} the locator . How how {disfmarker} so {disfmarker} </s> Industrial Designer : Well the locator is just chip that's inside there . </s> User Interface : Okay so that's just {disfmarker} </s> Industrial Designer : And the beeper's also inside there too somewhere </s> User Interface : So you have to have a button on your on your {disfmarker} you have to attach the button to the {disfmarker} </s> Industrial Designer : Yeah we didn't design that . </s> User Interface : Yeah we have {disfmarker} that that has yes yet to be designed . </s> Industrial Designer : But it would be coordinating with that of course . </s> User Interface : Yeah that c hey that that could you know match the handset . </s> Project Manager : Yeah . </s> Industrial Designer : Mm-hmm . </s> User Interface : You could have a broccoli , or you could have a mango . {vocalsound} </s> Project Manager : {vocalsound} </s> Industrial Designer : {vocalsound} </s> User Interface : So . Tada . </s> Project Manager : Oh . Um if you wanna look in your project documents folder , there's an Excel spreadsheet . Um the only one that's in there , production costs . And if you open it up . Um I've just stuck the numbers in , it was a real challenge there . {vocalsound} But if I missed anything that we've gone over , or if you see something that has changed {disfmarker} </s> Industrial Designer : {vocalsound} </s> Project Manager : I mean , we decided on batteries , and the regular chip would be necessary for the more advanced iPod-like button . Um {disfmarker} {vocalsound} I said uncurved or flat . I think that's what you have there , is that right ? For the for the plastic part would be {disfmarker} </s> Industrial Designer : My impression was that flat meant like like one of those square remotes . </s> Project Manager : Oh . Okay . </s> Industrial Designer : But it's really not very clear , because you got single curve and double curve and {disfmarker} d I dunno what that means . </s> Project Manager : Right . </s> Industrial Designer : One side is curved and then the other side is curved . </s> Project Manager : Well {disfmarker} yeah . If we're talking about the area just {disfmarker} oh I d I dunno . I guess we'd have to contact the company that makes them and see . </s> Industrial Designer : {vocalsound} </s> Marketing : {vocalsound} </s> Project Manager : Um so what else ? There's plastic for that area around the button . Um and then rubber would be the squishy like thing right ? </s> Industrial Designer : Mm-hmm . </s> Project Manager : Um and lots of special colours actually . {vocalsound} Uh scroll wheel . Do you see anything that I've missed ? </s> Industrial Designer : No I think that's alright . </s> Project Manager : Okay so that would make our total of eleven point nine , which is even less than twelve point five , which means we'd be making even more of a profit . </s> Industrial Designer : {vocalsound} </s> Project Manager : And if we sold a lot of squishy things . </s> User Interface : Mm . </s> Project Manager : Boo yeah . Okay . {vocalsound} S So {disfmarker} Mm . Did y what did you work on ? The {disfmarker} </s> Marketing : Um evaluation criteria . </s> Project Manager : Okay . Do you wanna {disfmarker} </s> Marketing : I've got a presentation . </s> Project Manager : Okay . I think that's {disfmarker} </s> Marketing : So I need {disfmarker} where's the cable ? Right what happens is we have to um decide whether this this whole this whole project we've been working on actually um meets the standards we were set at the start . Um . Right . This doesn't {disfmarker} okay . Um the method is {disfmarker} we {disfmarker} well I've analysed the user requirements and integrated them to the trends found in marketing reports and in our company strategy marketing . And um the findings were that we need it to look in a certain way , feel in a certain way , and this is {disfmarker} everything's listed down . Um , look in a certain way , feel in a certain way , it has to be technologically innovative and it has to be easy to use . These are all things we looked at at the start , um and criteria that have to be met . We have to use a table , I'll show you that later , together to decide whether it meets the standards . And {vocalsound} we we have therefore in total um {disfmarker} We have five {disfmarker} we have eleven points according to which this should be evaluated . And um the cri well basically the findings are the same as the evaluation criteria . I would like to show you the table we have to use . Um . No . This is the table . Can you see this here ? </s> Industrial Designer : Mm-hmm . </s> Marketing : Um so the que the questions I've given you {disfmarker} c could you write that down ? True is one and and false is seven . And we'll just go through each point together , hopefully . Um . I think if each of us gives an opinion then they can be mixed somehow . </s> Industrial Designer : {vocalsound} </s> Marketing : I dunno how it works exactly , I haven't been told . </s> User Interface : Yeah . Is it possible that we can bring this up on our own {disfmarker} {gap} </s> Marketing : Yeah it's in the um {disfmarker} it's in the project documents . </s> User Interface : Is it meeting three minutes ? No it's not minutes . </s> Marketing : It's called evaluation criteria . </s> User Interface : Okay . </s> Marketing : And it's under evaluation . </s> Project Manager : Huh , the PowerPoint one ? </s> Industrial Designer : Hmm ? </s> User Interface : Okay . Cool . </s> Marketing : Yeah . You've found it all ? </s> Project Manager : Yeah . </s> Marketing : So it was um {disfmarker} Yeah true's one . </s> User Interface : True's one and false is seven . </s> Marketing : Do you want us to discuss this together or do you want us to do it singly ? </s> Project Manager : Um we can do it separately and then discuss it </s> Marketing : {vocalsound} Yeah okay . </s> Project Manager : if if that's what people wanna do . </s> User Interface : So it's actually a scale . </s> Project Manager : Wait , one is true and {disfmarker} {vocalsound} </s> Marketing : {vocalsound} Um , </s> Project Manager : so these are the questions we're answering . And one is {disfmarker} </s> Marketing : yes it's {disfmarker} if it's fancy you put one , </s> Project Manager : One , right okay . </s> Marketing : if it's really unfancy it's seven . </s> Project Manager : If it's somewhere in between you put four . </s> Marketing : {vocalsound} Yeah , something . </s> Project Manager : {vocalsound} Okay . </s> User Interface : Okay . {vocalsound} Does it feel fancy ? </s> Project Manager : {vocalsound} </s> Industrial Designer : {vocalsound} Feels like play-dough . </s> Marketing : {vocalsound} </s> User Interface : {vocalsound} No . {vocalsound} </s> Marketing : They shouldn't really be questions . Should be more like {disfmarker} Are the batteries easy to insert ? {vocalsound} </s> Industrial Designer : I'm gonna say yes . {vocalsound} </s> Marketing : Yes ? Very very true . Okay . </s> Industrial Designer : {vocalsound} I imagine they're somewhere on the front . We have a little case that you slip 'em in . </s> Marketing : Okay . </s> Project Manager : Are we just about ready ? </s> Marketing : Apparently I'm supposed to use the whiteboard . Do we {disfmarker} um is it necessary ? </s> Project Manager : I don't think so . It's {disfmarker} </s> Marketing : We'll just do um {disfmarker} </s> Project Manager : yeah the the marker thing kinda stopped working last time we {disfmarker} </s> Industrial Designer : {vocalsound} </s> Marketing : {vocalsound} </s> User Interface : {vocalsound} Yeah . Okay . </s> Project Manager : Our animals will forever be there . </s> Marketing : Yeah . Okay . </s> Project Manager : {vocalsound} Un unless you feel you need it t to {disfmarker} </s> Marketing : I don't feel any {disfmarker} {vocalsound} </s> Project Manager : okay okay . </s> Industrial Designer : {vocalsound} </s> Project Manager : We'll {disfmarker} </s> User Interface : {vocalsound} </s> Marketing : right um {disfmarker} Right so one point one ? We'll just go in a circle . </s> Industrial Designer : 'Kay </s> User Interface : One . </s> Industrial Designer : Five . </s> Marketing : Right . Ooh I don't know . </s> Industrial Designer : {vocalsound} </s> Marketing : Right . One ? </s> Industrial Designer : Five . </s> Project Manager : Five . </s> Marketing : Five . </s> Project Manager : {vocalsound} </s> Industrial Designer : {vocalsound} </s> Marketing : Two . Okay so do we just add it up and divide it by four ? Is that what the company does ? </s> Project Manager : I I think we should {disfmarker} </s> Industrial Designer : {vocalsound} It's four if you wanna do that . </s> Project Manager : Yeah . </s> Marketing : Yeah ? </s> Project Manager : Yeah . </s> Industrial Designer : It adds to sixteen , so that's four . </s> Marketing : Oh no . It adds to thirteen . One five five two . </s> Industrial Designer : Oh I thought she said five . </s> User Interface : Hmm . </s> Marketing : One five five two is thirteen , over four for now . I think that's um {disfmarker} next ? </s> User Interface : Um three . </s> Industrial Designer : Six . </s> Project Manager : Six . </s> Industrial Designer : {vocalsound} </s> Marketing : Really ? {vocalsound} </s> User Interface : Yeah . {vocalsound} </s> Marketing : Two . </s> Project Manager : {vocalsound} I wasn't cheating I swear . </s> Marketing : Uh-oh . Right . One point three is {disfmarker} </s> User Interface : So it's a one was true and seven was false ? </s> Project Manager : Uh . </s> Industrial Designer : Huh ? </s> User Interface : {gap} Okay , so you guys really didn't like it ? </s> Marketing : Yeah . </s> Project Manager : Oh I thought it was the other way round . </s> Industrial Designer : Wait a minute . </s> Marketing : I really {disfmarker} </s> Industrial Designer : I thought it was the other way round too . </s> Project Manager : {vocalsound} So we do have about the same thing , we just have it the other way {disfmarker} {vocalsound} </s> Marketing : Well uh {disfmarker} {vocalsound} </s> Industrial Designer : Sh Yeah I I was thinking one means no points , you know , all the way up to the top {vocalsound} . </s> Marketing : Yeah yeah . It was one is true and {vocalsound} false is seven . </s> Project Manager : {vocalsound} </s> Marketing : I should've kept the table up . </s> Project Manager : Oh gosh . Okay . Well {disfmarker} </s> Industrial Designer : I'll just I'll just reverse them all . It's no problem . </s> Project Manager : Yeah . </s> Marketing : Right , well I'm glad this came out . </s> Project Manager : {vocalsound} Yeah . {vocalsound} </s> Industrial Designer : {vocalsound} I thought you guys hated it . {vocalsound} </s> User Interface : I was like , why did you guys design it that way if you hated it ? {vocalsound} </s> Marketing : Yeah . </s> User Interface : Yeah . {vocalsound} </s> Marketing : {vocalsound} No . {vocalsound} Oh that's quite funny {vocalsound} . </s> Industrial Designer : Okay . </s> Marketing : Okay . {gap} </s> Project Manager : Yeah . </s> Marketing : Okay . So , starting again , one point one ? </s> User Interface : One . </s> Industrial Designer : Say two . </s> Project Manager : Three . </s> Marketing : Two . Okay , one point two ? </s> User Interface : Uh three . </s> Industrial Designer : Two . </s> Project Manager : Two . </s> Marketing : Two . Okay . Um , one point three ? </s> User Interface : One . </s> Project Manager : One . </s> Industrial Designer : One . </s> Marketing : Ha . {vocalsound} Two point one ? </s> Project Manager : Two . </s> User Interface : Uh two . </s> Industrial Designer : Uh two . </s> Project Manager : Two point {disfmarker} I think I missed two . {vocalsound} Wait , is that two point one ? </s> Industrial Designer : Yeah I put it down as one point four for some reason . </s> Marketing : Yeah . </s> Project Manager : One point four , one point five . Okay right </s> Marketing : Oh dear , okay . Sorry . </s> Project Manager : that's {disfmarker} I have two of them . </s> Industrial Designer : Mine has all kinds of problems . </s> Marketing : Two and one . </s> User Interface : {vocalsound} </s> Marketing : Sorry about that . T two point two , which is one point five . </s> Project Manager : One . </s> Industrial Designer : Uh three . Wait why did I put three ? </s> User Interface : Uh one . </s> Industrial Designer : I meant one on mine too . </s> Marketing : Okay . Three point one . Is that correct on my slide ? </s> Project Manager : Yeah . Yeah . </s> User Interface : Yeah . </s> Marketing : Yeah ? </s> User Interface : Uh one . </s> Industrial Designer : Three point one . I have four . </s> Project Manager : Three . </s> Marketing : One , four , three , three , three point two ? </s> Industrial Designer : Three . </s> Project Manager : Three . </s> User Interface : Uh . One . </s> Marketing : Three point three . </s> User Interface : One . </s> Industrial Designer : One . </s> Project Manager : Two . </s> Marketing : Four point one ? </s> User Interface : One . </s> Industrial Designer : Two . </s> Project Manager : Five . </s> Marketing : Two . Four point two . </s> User Interface : Two . </s> Industrial Designer : Three . </s> Project Manager : Four . </s> Marketing : Two and four point three . </s> Industrial Designer : Two . </s> Marketing : One , two . </s> User Interface : One . </s> Project Manager : Two . </s> Marketing : Right so I put one on that . </s> Industrial Designer : {vocalsound} </s> Marketing : Okay I'll um I'll just do the calculations now if you want to continue . </s> Project Manager : Okay . Um {disfmarker} </s> Marketing : Or is it tedious ? I'm I'm sorry this was so tedious for everyone .\",\n",
       " 'length': 'normal',\n",
       " 'extractiveness': 'normal',\n",
       " 'specificity': 'normal',\n",
       " 'topic': 'remote control , detailed design',\n",
       " 'speaker': '',\n",
       " 'summary': 'Industrial Designer showed what the remote control design would look like. It had an interchangeable base made of soft sponge rubber so that the user could change the color or design of a trendy vegetable or fruit. User Interface said it was hard to make sure they were the perfect size laptops to fit in the battery box. User Interface asked about the attached button. Industrial Designer said they haven\\'t designed it, but it would match. They settled on batteries and a regular chip to make the advanced iPod-like button work, and a flat piece of plastic with no curves. Industrial Designer said, \"flat\" sounds like a square remote. Project Manager said there would be plastic for the area around the button and then a soft rubber and a bunch of special colors.',\n",
       " 'title': 'Detailed Remote Control Design',\n",
       " 'turns': [1, [16, 39], 42, 45, [48, 51]]}"
      ]
     },
     "execution_count": 26,
     "metadata": {},
     "output_type": "execute_result"
    }
   ],
   "source": [
    "data[0]"
   ]
  },
  {
   "cell_type": "code",
   "execution_count": 27,
   "metadata": {},
   "outputs": [],
   "source": [
    "id_list = [idx for idx in range(data_length)]\n",
    "dialogue_list = [sample[\"article\"] for sample in data]\n",
    "\n",
    "if \"summary\" in data[0]:\n",
    "    summary_list = [sample[\"summary\"] for sample in data]\n",
    "    topic_list = [sample[\"topic\"] for sample in data]"
   ]
  },
  {
   "cell_type": "code",
   "execution_count": null,
   "metadata": {},
   "outputs": [],
   "source": []
  }
 ],
 "metadata": {
  "kernelspec": {
   "display_name": "Python 3",
   "language": "python",
   "name": "python3"
  },
  "language_info": {
   "codemirror_mode": {
    "name": "ipython",
    "version": 3
   },
   "file_extension": ".py",
   "mimetype": "text/x-python",
   "name": "python",
   "nbconvert_exporter": "python",
   "pygments_lexer": "ipython3",
   "version": "3.11.5"
  }
 },
 "nbformat": 4,
 "nbformat_minor": 2
}
