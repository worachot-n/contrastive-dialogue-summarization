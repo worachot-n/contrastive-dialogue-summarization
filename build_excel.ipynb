{
 "cells": [
  {
   "cell_type": "code",
   "execution_count": 6,
   "id": "062780dd",
   "metadata": {},
   "outputs": [],
   "source": [
    "import os\n",
    "import json\n",
    "import pandas as pd\n",
    "\n",
    "import difflib\n",
    "import nltk\n",
    "import re\n",
    "\n",
    "from rouge_s import py_rouge_scores\n",
    "from bert_score import score\n",
    "\n",
    "%matplotlib inline"
   ]
  },
  {
   "cell_type": "code",
   "execution_count": 7,
   "id": "329f21a7",
   "metadata": {},
   "outputs": [],
   "source": [
    "name_method = {1: '1_bart_noprompt', 2: '2_bart_topic', 3: '3_bart_length', \n",
    "            4: '4_bart_topic_length', 5: '5_bart_contrastive_random', 6: '6_bart_contrastive_synonym',\n",
    "            7: '7_bart_contrastive_combine', 8: '8_bart_contrastive_combine_word_tagger_dialog', 9: '9_bart_contrastive_combine_prompt_tagger_dialog',\n",
    "            10: '5_bart_contrastive_random_negative', 11: '6_bart_contrastive_synonym_positive', 12: '7_bart_contrastive_combine_pos_neg',\n",
    "            13: '4_bart_topic_length_word_tagger', 14: '4_bart_topic_length_word_tagger',\n",
    "            15: '15_bart_topic_word_tagger', 16: '16_bart_topic_contrastive_combine', 17: '17_bart_topic_contrastive_combine_word_tagger'}"
   ]
  },
  {
   "cell_type": "code",
   "execution_count": 8,
   "id": "d7db8665",
   "metadata": {},
   "outputs": [],
   "source": [
    "total_method = 17\n",
    "\n",
    "# list_method = list(range(1 ,total_method + 1))\n",
    "list_method = list(range(15 ,total_method + 1))"
   ]
  },
  {
   "cell_type": "code",
   "execution_count": 9,
   "id": "12ba7f25-7b8b-4025-9756-ab59008e82d1",
   "metadata": {},
   "outputs": [
    {
     "data": {
      "text/plain": [
       "[15, 16, 17]"
      ]
     },
     "execution_count": 9,
     "metadata": {},
     "output_type": "execute_result"
    }
   ],
   "source": [
    "list_method"
   ]
  },
  {
   "cell_type": "code",
   "execution_count": 10,
   "id": "1ef5c92a",
   "metadata": {},
   "outputs": [],
   "source": [
    "def load_gold_summary(file_path):\n",
    "    \"\"\"load result jsonl data\"\"\"\n",
    "\n",
    "    data = []\n",
    "\n",
    "    with open(file_path, \"r\") as f:\n",
    "        for line in f:\n",
    "            data.append(json.loads(line))\n",
    "\n",
    "    id_list = [sample[\"fname\"] for sample in data]\n",
    "    dialogue_list = [sample[\"dialogue\"] for sample in data]\n",
    "\n",
    "    summary_list1 = [sample[\"summary1\"] for sample in data]\n",
    "    summary_list2 = [sample[\"summary2\"] for sample in data]\n",
    "    summary_list3 = [sample[\"summary3\"] for sample in data]\n",
    "    \n",
    "    topic_list1 = [sample[\"topic1\"] for sample in data]\n",
    "    topic_list2 = [sample[\"topic2\"] for sample in data]\n",
    "    topic_list3 = [sample[\"topic3\"] for sample in data]\n",
    "\n",
    "    data_dict = {\n",
    "    \"fname\": id_list,\n",
    "    \"dialogue\": dialogue_list,\n",
    "    \"summary1\": summary_list1,\n",
    "    \"summary1\": summary_list1,\n",
    "    \"summary2\": summary_list2,\n",
    "    \"summary3\": summary_list3,\n",
    "    \"topic1\": topic_list1,\n",
    "    \"topic2\": topic_list2,\n",
    "    \"topic3\": topic_list3,\n",
    "    }\n",
    "\n",
    "    return data_dict"
   ]
  },
  {
   "cell_type": "code",
   "execution_count": 11,
   "id": "58c2bd3d",
   "metadata": {},
   "outputs": [],
   "source": [
    "def load_result(file_path):\n",
    "    \"\"\"load result jsonl data\"\"\"\n",
    "\n",
    "    data = []\n",
    "\n",
    "    with open(file_path, \"r\") as f:\n",
    "        for line in f:\n",
    "            data.append(json.loads(line))\n",
    "\n",
    "    id_list = [sample[\"fname\"] for sample in data]\n",
    "\n",
    "    summary_list1 = [sample[\"gen_summary1\"] for sample in data]\n",
    "    summary_list2 = [sample[\"gen_summary2\"] for sample in data]\n",
    "    summary_list3 = [sample[\"gen_summary3\"] for sample in data]\n",
    "\n",
    "    data_dict = {\n",
    "    \"fname\": id_list,\n",
    "    \"gen_summary1\": summary_list1,\n",
    "    \"gen_summary2\": summary_list2,\n",
    "    \"gen_summary3\": summary_list3,\n",
    "    }\n",
    "\n",
    "    return data_dict"
   ]
  },
  {
   "cell_type": "code",
   "execution_count": 12,
   "id": "357f96b0",
   "metadata": {},
   "outputs": [],
   "source": [
    "gold_summary = load_gold_summary(f\"./data/dialogsum/dialogsum.test.jsonl\")"
   ]
  },
  {
   "cell_type": "code",
   "execution_count": 13,
   "id": "3a869469",
   "metadata": {},
   "outputs": [],
   "source": [
    "gold_summary_df = pd.DataFrame.from_dict(gold_summary)"
   ]
  },
  {
   "cell_type": "code",
   "execution_count": 14,
   "id": "3e342c33",
   "metadata": {},
   "outputs": [
    {
     "data": {
      "text/html": [
       "<div>\n",
       "<style scoped>\n",
       "    .dataframe tbody tr th:only-of-type {\n",
       "        vertical-align: middle;\n",
       "    }\n",
       "\n",
       "    .dataframe tbody tr th {\n",
       "        vertical-align: top;\n",
       "    }\n",
       "\n",
       "    .dataframe thead th {\n",
       "        text-align: right;\n",
       "    }\n",
       "</style>\n",
       "<table border=\"1\" class=\"dataframe\">\n",
       "  <thead>\n",
       "    <tr style=\"text-align: right;\">\n",
       "      <th></th>\n",
       "      <th>fname</th>\n",
       "      <th>dialogue</th>\n",
       "      <th>summary1</th>\n",
       "      <th>summary2</th>\n",
       "      <th>summary3</th>\n",
       "      <th>topic1</th>\n",
       "      <th>topic2</th>\n",
       "      <th>topic3</th>\n",
       "    </tr>\n",
       "  </thead>\n",
       "  <tbody>\n",
       "    <tr>\n",
       "      <th>0</th>\n",
       "      <td>test_0</td>\n",
       "      <td>#Person1#: Ms. Dawson, I need you to take a di...</td>\n",
       "      <td>Ms. Dawson helps #Person1# to write a memo to ...</td>\n",
       "      <td>In order to prevent employees from wasting tim...</td>\n",
       "      <td>Ms. Dawson takes a dictation for #Person1# abo...</td>\n",
       "      <td>communication method</td>\n",
       "      <td>company policy</td>\n",
       "      <td>dictation</td>\n",
       "    </tr>\n",
       "    <tr>\n",
       "      <th>1</th>\n",
       "      <td>test_1</td>\n",
       "      <td>#Person1#: You're finally here! What took so l...</td>\n",
       "      <td>#Person2# arrives late because of traffic jam....</td>\n",
       "      <td>#Person2# decides to follow #Person1#'s sugges...</td>\n",
       "      <td>#Person2# complains to #Person1# about the tra...</td>\n",
       "      <td>public transportation</td>\n",
       "      <td>transportation</td>\n",
       "      <td>discuss transportation</td>\n",
       "    </tr>\n",
       "    <tr>\n",
       "      <th>2</th>\n",
       "      <td>test_2</td>\n",
       "      <td>#Person1#: Kate, you never believe what's happ...</td>\n",
       "      <td>#Person1# tells Kate that Masha and Hero get d...</td>\n",
       "      <td>#Person1# tells Kate that Masha and Hero are g...</td>\n",
       "      <td>#Person1# and Kate talk about the divorce betw...</td>\n",
       "      <td>divorce</td>\n",
       "      <td>divorce</td>\n",
       "      <td>discuss divorce</td>\n",
       "    </tr>\n",
       "    <tr>\n",
       "      <th>3</th>\n",
       "      <td>test_3</td>\n",
       "      <td>#Person1#: Happy Birthday, this is for you, Br...</td>\n",
       "      <td>#Person1# and Brian are at the birthday party ...</td>\n",
       "      <td>#Person1# attends Brian's birthday party. Bria...</td>\n",
       "      <td>#Person1# has a dance with Brian at Brian's bi...</td>\n",
       "      <td>birthday party</td>\n",
       "      <td>birthday party</td>\n",
       "      <td>birthday party</td>\n",
       "    </tr>\n",
       "    <tr>\n",
       "      <th>4</th>\n",
       "      <td>test_4</td>\n",
       "      <td>#Person1#: This Olympic park is so big!\\n#Pers...</td>\n",
       "      <td>#Person1# is surprised at the Olympic Stadium'...</td>\n",
       "      <td>#Person2# shows #Person1# around the construct...</td>\n",
       "      <td>#Person2# introduces the Olympic Stadium's fin...</td>\n",
       "      <td>Olympic Stadium</td>\n",
       "      <td>sports stadium</td>\n",
       "      <td>Olympic Stadium</td>\n",
       "    </tr>\n",
       "  </tbody>\n",
       "</table>\n",
       "</div>"
      ],
      "text/plain": [
       "    fname                                           dialogue  \\\n",
       "0  test_0  #Person1#: Ms. Dawson, I need you to take a di...   \n",
       "1  test_1  #Person1#: You're finally here! What took so l...   \n",
       "2  test_2  #Person1#: Kate, you never believe what's happ...   \n",
       "3  test_3  #Person1#: Happy Birthday, this is for you, Br...   \n",
       "4  test_4  #Person1#: This Olympic park is so big!\\n#Pers...   \n",
       "\n",
       "                                            summary1  \\\n",
       "0  Ms. Dawson helps #Person1# to write a memo to ...   \n",
       "1  #Person2# arrives late because of traffic jam....   \n",
       "2  #Person1# tells Kate that Masha and Hero get d...   \n",
       "3  #Person1# and Brian are at the birthday party ...   \n",
       "4  #Person1# is surprised at the Olympic Stadium'...   \n",
       "\n",
       "                                            summary2  \\\n",
       "0  In order to prevent employees from wasting tim...   \n",
       "1  #Person2# decides to follow #Person1#'s sugges...   \n",
       "2  #Person1# tells Kate that Masha and Hero are g...   \n",
       "3  #Person1# attends Brian's birthday party. Bria...   \n",
       "4  #Person2# shows #Person1# around the construct...   \n",
       "\n",
       "                                            summary3                 topic1  \\\n",
       "0  Ms. Dawson takes a dictation for #Person1# abo...   communication method   \n",
       "1  #Person2# complains to #Person1# about the tra...  public transportation   \n",
       "2  #Person1# and Kate talk about the divorce betw...                divorce   \n",
       "3  #Person1# has a dance with Brian at Brian's bi...         birthday party   \n",
       "4  #Person2# introduces the Olympic Stadium's fin...        Olympic Stadium   \n",
       "\n",
       "           topic2                  topic3  \n",
       "0  company policy               dictation  \n",
       "1  transportation  discuss transportation  \n",
       "2         divorce         discuss divorce  \n",
       "3  birthday party          birthday party  \n",
       "4  sports stadium         Olympic Stadium  "
      ]
     },
     "execution_count": 14,
     "metadata": {},
     "output_type": "execute_result"
    }
   ],
   "source": [
    "gold_summary_df.head()"
   ]
  },
  {
   "cell_type": "code",
   "execution_count": 15,
   "id": "b9a0f655-7a2d-4371-be5c-afdd3bcef366",
   "metadata": {},
   "outputs": [],
   "source": [
    "# gold_summary_df.to_excel(\"dataset.xlsx\") "
   ]
  },
  {
   "cell_type": "code",
   "execution_count": 16,
   "id": "dc883800",
   "metadata": {},
   "outputs": [],
   "source": [
    "result_all_df = {}\n",
    "for i in list_method:\n",
    "    result_dict = load_result(f\"./result/{i}.jsonl\")\n",
    "    result_df = pd.DataFrame.from_dict(result_dict)\n",
    "    result_all_df[i] = result_df"
   ]
  },
  {
   "cell_type": "code",
   "execution_count": 17,
   "id": "dc9437b2",
   "metadata": {},
   "outputs": [],
   "source": [
    "# result_all_df[1].head()"
   ]
  },
  {
   "cell_type": "code",
   "execution_count": 18,
   "id": "28996fd0",
   "metadata": {},
   "outputs": [],
   "source": [
    "num_method = 1\n",
    "\n",
    "num_example = 1\n",
    "gen_summary_num = 0\n",
    "\n",
    "list_gold_summary = ['summary1', 'summary2', 'summary3']\n",
    "list_gold_topic = ['topic1', 'topic2', 'topic3']\n",
    "list_gen_summary = ['gen_summary1', 'gen_summary2', 'gen_summary3']"
   ]
  },
  {
   "cell_type": "code",
   "execution_count": 19,
   "id": "647aa7ea-c98a-405a-b272-9e3008b6980c",
   "metadata": {},
   "outputs": [
    {
     "name": "stderr",
     "output_type": "stream",
     "text": [
      "Some weights of RobertaModel were not initialized from the model checkpoint at roberta-large and are newly initialized: ['roberta.pooler.dense.bias', 'roberta.pooler.dense.weight']\n",
      "You should probably TRAIN this model on a down-stream task to be able to use it for predictions and inference.\n"
     ]
    },
    {
     "name": "stdout",
     "output_type": "stream",
     "text": [
      "calculating scores...\n",
      "computing bert embedding.\n"
     ]
    },
    {
     "data": {
      "application/vnd.jupyter.widget-view+json": {
       "model_id": "ff2249fed6e44c99998e161400279a8e",
       "version_major": 2,
       "version_minor": 0
      },
      "text/plain": [
       "  0%|          | 0/16 [00:00<?, ?it/s]"
      ]
     },
     "metadata": {},
     "output_type": "display_data"
    },
    {
     "name": "stdout",
     "output_type": "stream",
     "text": [
      "computing greedy matching.\n"
     ]
    },
    {
     "data": {
      "application/vnd.jupyter.widget-view+json": {
       "model_id": "b1b21ba138f24f66927e8a9dc3abcf3b",
       "version_major": 2,
       "version_minor": 0
      },
      "text/plain": [
       "  0%|          | 0/8 [00:00<?, ?it/s]"
      ]
     },
     "metadata": {},
     "output_type": "display_data"
    },
    {
     "name": "stdout",
     "output_type": "stream",
     "text": [
      "done in 9.22 seconds, 54.22 sentences/sec\n"
     ]
    },
    {
     "name": "stderr",
     "output_type": "stream",
     "text": [
      "Some weights of RobertaModel were not initialized from the model checkpoint at roberta-large and are newly initialized: ['roberta.pooler.dense.bias', 'roberta.pooler.dense.weight']\n",
      "You should probably TRAIN this model on a down-stream task to be able to use it for predictions and inference.\n"
     ]
    },
    {
     "name": "stdout",
     "output_type": "stream",
     "text": [
      "calculating scores...\n",
      "computing bert embedding.\n"
     ]
    },
    {
     "data": {
      "application/vnd.jupyter.widget-view+json": {
       "model_id": "6b4bf9bcc4fd4127a9b9f8a6a77c4f98",
       "version_major": 2,
       "version_minor": 0
      },
      "text/plain": [
       "  0%|          | 0/16 [00:00<?, ?it/s]"
      ]
     },
     "metadata": {},
     "output_type": "display_data"
    },
    {
     "name": "stdout",
     "output_type": "stream",
     "text": [
      "computing greedy matching.\n"
     ]
    },
    {
     "data": {
      "application/vnd.jupyter.widget-view+json": {
       "model_id": "1d0db10726d9428abf8d05164a008071",
       "version_major": 2,
       "version_minor": 0
      },
      "text/plain": [
       "  0%|          | 0/8 [00:00<?, ?it/s]"
      ]
     },
     "metadata": {},
     "output_type": "display_data"
    },
    {
     "name": "stdout",
     "output_type": "stream",
     "text": [
      "done in 9.22 seconds, 54.24 sentences/sec\n"
     ]
    },
    {
     "name": "stderr",
     "output_type": "stream",
     "text": [
      "Some weights of RobertaModel were not initialized from the model checkpoint at roberta-large and are newly initialized: ['roberta.pooler.dense.bias', 'roberta.pooler.dense.weight']\n",
      "You should probably TRAIN this model on a down-stream task to be able to use it for predictions and inference.\n"
     ]
    },
    {
     "name": "stdout",
     "output_type": "stream",
     "text": [
      "calculating scores...\n",
      "computing bert embedding.\n"
     ]
    },
    {
     "data": {
      "application/vnd.jupyter.widget-view+json": {
       "model_id": "5c968a5635354c9382fe9c4d547abcbb",
       "version_major": 2,
       "version_minor": 0
      },
      "text/plain": [
       "  0%|          | 0/16 [00:00<?, ?it/s]"
      ]
     },
     "metadata": {},
     "output_type": "display_data"
    },
    {
     "name": "stdout",
     "output_type": "stream",
     "text": [
      "computing greedy matching.\n"
     ]
    },
    {
     "data": {
      "application/vnd.jupyter.widget-view+json": {
       "model_id": "aaaf43b2b4204b328c13f56cd4d6eaac",
       "version_major": 2,
       "version_minor": 0
      },
      "text/plain": [
       "  0%|          | 0/8 [00:00<?, ?it/s]"
      ]
     },
     "metadata": {},
     "output_type": "display_data"
    },
    {
     "name": "stdout",
     "output_type": "stream",
     "text": [
      "done in 8.22 seconds, 60.86 sentences/sec\n"
     ]
    },
    {
     "name": "stderr",
     "output_type": "stream",
     "text": [
      "Some weights of RobertaModel were not initialized from the model checkpoint at roberta-large and are newly initialized: ['roberta.pooler.dense.bias', 'roberta.pooler.dense.weight']\n",
      "You should probably TRAIN this model on a down-stream task to be able to use it for predictions and inference.\n"
     ]
    },
    {
     "name": "stdout",
     "output_type": "stream",
     "text": [
      "calculating scores...\n",
      "computing bert embedding.\n"
     ]
    },
    {
     "data": {
      "application/vnd.jupyter.widget-view+json": {
       "model_id": "9d9b3516dbda4b4ca7cd88a6061b5682",
       "version_major": 2,
       "version_minor": 0
      },
      "text/plain": [
       "  0%|          | 0/16 [00:00<?, ?it/s]"
      ]
     },
     "metadata": {},
     "output_type": "display_data"
    },
    {
     "name": "stdout",
     "output_type": "stream",
     "text": [
      "computing greedy matching.\n"
     ]
    },
    {
     "data": {
      "application/vnd.jupyter.widget-view+json": {
       "model_id": "edea86b2dce1483b82916c676c8a3ca7",
       "version_major": 2,
       "version_minor": 0
      },
      "text/plain": [
       "  0%|          | 0/8 [00:00<?, ?it/s]"
      ]
     },
     "metadata": {},
     "output_type": "display_data"
    },
    {
     "name": "stdout",
     "output_type": "stream",
     "text": [
      "done in 5.32 seconds, 94.06 sentences/sec\n"
     ]
    },
    {
     "name": "stderr",
     "output_type": "stream",
     "text": [
      "Some weights of RobertaModel were not initialized from the model checkpoint at roberta-large and are newly initialized: ['roberta.pooler.dense.bias', 'roberta.pooler.dense.weight']\n",
      "You should probably TRAIN this model on a down-stream task to be able to use it for predictions and inference.\n"
     ]
    },
    {
     "name": "stdout",
     "output_type": "stream",
     "text": [
      "calculating scores...\n",
      "computing bert embedding.\n"
     ]
    },
    {
     "data": {
      "application/vnd.jupyter.widget-view+json": {
       "model_id": "6ac71364b40b4e3c92d27f3dfe08ae2a",
       "version_major": 2,
       "version_minor": 0
      },
      "text/plain": [
       "  0%|          | 0/16 [00:00<?, ?it/s]"
      ]
     },
     "metadata": {},
     "output_type": "display_data"
    },
    {
     "name": "stdout",
     "output_type": "stream",
     "text": [
      "computing greedy matching.\n"
     ]
    },
    {
     "data": {
      "application/vnd.jupyter.widget-view+json": {
       "model_id": "d0506d1a0d2e4f5ebe054cdf0bbdbcc1",
       "version_major": 2,
       "version_minor": 0
      },
      "text/plain": [
       "  0%|          | 0/8 [00:00<?, ?it/s]"
      ]
     },
     "metadata": {},
     "output_type": "display_data"
    },
    {
     "name": "stdout",
     "output_type": "stream",
     "text": [
      "done in 4.70 seconds, 106.40 sentences/sec\n"
     ]
    },
    {
     "name": "stderr",
     "output_type": "stream",
     "text": [
      "Some weights of RobertaModel were not initialized from the model checkpoint at roberta-large and are newly initialized: ['roberta.pooler.dense.bias', 'roberta.pooler.dense.weight']\n",
      "You should probably TRAIN this model on a down-stream task to be able to use it for predictions and inference.\n"
     ]
    },
    {
     "name": "stdout",
     "output_type": "stream",
     "text": [
      "calculating scores...\n",
      "computing bert embedding.\n"
     ]
    },
    {
     "data": {
      "application/vnd.jupyter.widget-view+json": {
       "model_id": "7713ecbce4ed424c90c0a29c7219eee8",
       "version_major": 2,
       "version_minor": 0
      },
      "text/plain": [
       "  0%|          | 0/16 [00:00<?, ?it/s]"
      ]
     },
     "metadata": {},
     "output_type": "display_data"
    },
    {
     "name": "stdout",
     "output_type": "stream",
     "text": [
      "computing greedy matching.\n"
     ]
    },
    {
     "data": {
      "application/vnd.jupyter.widget-view+json": {
       "model_id": "78121f6975884e589adfac1c65d8b532",
       "version_major": 2,
       "version_minor": 0
      },
      "text/plain": [
       "  0%|          | 0/8 [00:00<?, ?it/s]"
      ]
     },
     "metadata": {},
     "output_type": "display_data"
    },
    {
     "name": "stdout",
     "output_type": "stream",
     "text": [
      "done in 4.69 seconds, 106.66 sentences/sec\n"
     ]
    },
    {
     "name": "stderr",
     "output_type": "stream",
     "text": [
      "Some weights of RobertaModel were not initialized from the model checkpoint at roberta-large and are newly initialized: ['roberta.pooler.dense.bias', 'roberta.pooler.dense.weight']\n",
      "You should probably TRAIN this model on a down-stream task to be able to use it for predictions and inference.\n"
     ]
    },
    {
     "name": "stdout",
     "output_type": "stream",
     "text": [
      "calculating scores...\n",
      "computing bert embedding.\n"
     ]
    },
    {
     "data": {
      "application/vnd.jupyter.widget-view+json": {
       "model_id": "193a27ba69ab4007b6c069c79ff433b1",
       "version_major": 2,
       "version_minor": 0
      },
      "text/plain": [
       "  0%|          | 0/16 [00:00<?, ?it/s]"
      ]
     },
     "metadata": {},
     "output_type": "display_data"
    },
    {
     "name": "stdout",
     "output_type": "stream",
     "text": [
      "computing greedy matching.\n"
     ]
    },
    {
     "data": {
      "application/vnd.jupyter.widget-view+json": {
       "model_id": "b1e49eb249254e699210d2c2526e25c3",
       "version_major": 2,
       "version_minor": 0
      },
      "text/plain": [
       "  0%|          | 0/8 [00:00<?, ?it/s]"
      ]
     },
     "metadata": {},
     "output_type": "display_data"
    },
    {
     "name": "stdout",
     "output_type": "stream",
     "text": [
      "done in 9.31 seconds, 53.71 sentences/sec\n"
     ]
    },
    {
     "name": "stderr",
     "output_type": "stream",
     "text": [
      "Some weights of RobertaModel were not initialized from the model checkpoint at roberta-large and are newly initialized: ['roberta.pooler.dense.bias', 'roberta.pooler.dense.weight']\n",
      "You should probably TRAIN this model on a down-stream task to be able to use it for predictions and inference.\n"
     ]
    },
    {
     "name": "stdout",
     "output_type": "stream",
     "text": [
      "calculating scores...\n",
      "computing bert embedding.\n"
     ]
    },
    {
     "data": {
      "application/vnd.jupyter.widget-view+json": {
       "model_id": "7c0e330d68b14ab2b618f6bf09e1ea37",
       "version_major": 2,
       "version_minor": 0
      },
      "text/plain": [
       "  0%|          | 0/16 [00:00<?, ?it/s]"
      ]
     },
     "metadata": {},
     "output_type": "display_data"
    },
    {
     "name": "stdout",
     "output_type": "stream",
     "text": [
      "computing greedy matching.\n"
     ]
    },
    {
     "data": {
      "application/vnd.jupyter.widget-view+json": {
       "model_id": "b8025a9565754d6f8bbdc7d4c26ffbd1",
       "version_major": 2,
       "version_minor": 0
      },
      "text/plain": [
       "  0%|          | 0/8 [00:00<?, ?it/s]"
      ]
     },
     "metadata": {},
     "output_type": "display_data"
    },
    {
     "name": "stdout",
     "output_type": "stream",
     "text": [
      "done in 9.34 seconds, 53.54 sentences/sec\n"
     ]
    },
    {
     "name": "stderr",
     "output_type": "stream",
     "text": [
      "Some weights of RobertaModel were not initialized from the model checkpoint at roberta-large and are newly initialized: ['roberta.pooler.dense.bias', 'roberta.pooler.dense.weight']\n",
      "You should probably TRAIN this model on a down-stream task to be able to use it for predictions and inference.\n"
     ]
    },
    {
     "name": "stdout",
     "output_type": "stream",
     "text": [
      "calculating scores...\n",
      "computing bert embedding.\n"
     ]
    },
    {
     "data": {
      "application/vnd.jupyter.widget-view+json": {
       "model_id": "37b8e357daee42dea0b5acc10508691c",
       "version_major": 2,
       "version_minor": 0
      },
      "text/plain": [
       "  0%|          | 0/16 [00:00<?, ?it/s]"
      ]
     },
     "metadata": {},
     "output_type": "display_data"
    },
    {
     "name": "stdout",
     "output_type": "stream",
     "text": [
      "computing greedy matching.\n"
     ]
    },
    {
     "data": {
      "application/vnd.jupyter.widget-view+json": {
       "model_id": "09b051ffeeda4522a8bb65d1a9a58484",
       "version_major": 2,
       "version_minor": 0
      },
      "text/plain": [
       "  0%|          | 0/8 [00:00<?, ?it/s]"
      ]
     },
     "metadata": {},
     "output_type": "display_data"
    },
    {
     "name": "stdout",
     "output_type": "stream",
     "text": [
      "done in 6.65 seconds, 75.21 sentences/sec\n"
     ]
    }
   ],
   "source": [
    "for i in list_method:\n",
    "    # for num in range(len(list_gen_summary)):\n",
    "    for num in range(len(list_gen_summary)):\n",
    "        rouge_1_list = []\n",
    "        rouge_2_list = []\n",
    "        rouge_l_list = []\n",
    "        gold_list = []\n",
    "        gen_list = []\n",
    "        gold_length_list = []\n",
    "        gen_length_list = []\n",
    "        diff_length_list = []\n",
    "        # print(num)\n",
    "        for idx in range(500):\n",
    "            gold = gold_summary_df.loc[idx, list_gold_summary[num]]\n",
    "            gen = result_all_df[i].loc[idx, list_gen_summary[num]]\n",
    "            gold_len = len(gold.split(\" \"))\n",
    "            gen_len = len(gen.split(\" \"))\n",
    "            diff_len = gen_len - gold_len\n",
    "            rouge_1 = py_rouge_scores(gold, gen)['rouge-1']['f']\n",
    "            rouge_2 = py_rouge_scores(gold, gen)['rouge-2']['f']\n",
    "            rouge_l = py_rouge_scores(gold, gen)['rouge-l']['f']\n",
    "            rouge_1_list.append(rouge_1)\n",
    "            rouge_2_list.append(rouge_2)\n",
    "            rouge_l_list.append(rouge_l)\n",
    "            gold_list.append(gold)\n",
    "            gen_list.append(gen)\n",
    "            gold_length_list.append(gold_len)\n",
    "            gen_length_list.append(gen_len)\n",
    "            diff_length_list.append(diff_len)\n",
    "            # print(len(rouge_1_list))\n",
    "        P, R, F1 = score(gold_list, gen_list, lang=\"en\", verbose=True)\n",
    "        bert_score = F1.tolist()\n",
    "        result_all_df[i][f\"gen{num+1}_rouge_1\"] = rouge_1_list\n",
    "        result_all_df[i][f\"gen{num+1}_rouge_2\"] = rouge_2_list\n",
    "        result_all_df[i][f\"gen{num+1}_rouge_l\"] = rouge_l_list\n",
    "        result_all_df[i][f\"gen{num+1}_bert_score\"] = bert_score\n",
    "        result_all_df[i][f\"gen{num+1}_gold_length\"] = gold_length_list\n",
    "        result_all_df[i][f\"gen{num+1}_gen_length\"] = gen_length_list\n",
    "        result_all_df[i][f\"gen{num+1}_diff_length\"] = diff_length_list\n",
    "        # break"
   ]
  },
  {
   "cell_type": "code",
   "execution_count": 21,
   "id": "91c6fdf3",
   "metadata": {},
   "outputs": [],
   "source": [
    "# result_all_df[1]"
   ]
  },
  {
   "cell_type": "code",
   "execution_count": 25,
   "id": "31a5dd16-cb36-47b0-bd39-8047183a6e33",
   "metadata": {},
   "outputs": [
    {
     "data": {
      "text/html": [
       "<div>\n",
       "<style scoped>\n",
       "    .dataframe tbody tr th:only-of-type {\n",
       "        vertical-align: middle;\n",
       "    }\n",
       "\n",
       "    .dataframe tbody tr th {\n",
       "        vertical-align: top;\n",
       "    }\n",
       "\n",
       "    .dataframe thead th {\n",
       "        text-align: right;\n",
       "    }\n",
       "</style>\n",
       "<table border=\"1\" class=\"dataframe\">\n",
       "  <thead>\n",
       "    <tr style=\"text-align: right;\">\n",
       "      <th></th>\n",
       "      <th>fname</th>\n",
       "      <th>gen_summary1</th>\n",
       "      <th>gen_summary2</th>\n",
       "      <th>gen_summary3</th>\n",
       "      <th>gen1_rouge_1</th>\n",
       "      <th>gen1_rouge_2</th>\n",
       "      <th>gen1_rouge_l</th>\n",
       "      <th>gen1_bert_score</th>\n",
       "      <th>gen1_gold_length</th>\n",
       "      <th>gen1_gen_length</th>\n",
       "      <th>...</th>\n",
       "      <th>gen2_gold_length</th>\n",
       "      <th>gen2_gen_length</th>\n",
       "      <th>gen2_diff_length</th>\n",
       "      <th>gen3_rouge_1</th>\n",
       "      <th>gen3_rouge_2</th>\n",
       "      <th>gen3_rouge_l</th>\n",
       "      <th>gen3_bert_score</th>\n",
       "      <th>gen3_gold_length</th>\n",
       "      <th>gen3_gen_length</th>\n",
       "      <th>gen3_diff_length</th>\n",
       "    </tr>\n",
       "  </thead>\n",
       "  <tbody>\n",
       "    <tr>\n",
       "      <th>0</th>\n",
       "      <td>test_0</td>\n",
       "      <td>#Person1# asks Ms. Dawson to take a dictation ...</td>\n",
       "      <td>#Person1# asks Ms. Dawson to take a dictation ...</td>\n",
       "      <td>#Person1# asks Ms. Dawson to take adictation f...</td>\n",
       "      <td>0.310680</td>\n",
       "      <td>0.039604</td>\n",
       "      <td>0.280912</td>\n",
       "      <td>0.880892</td>\n",
       "      <td>27</td>\n",
       "      <td>76</td>\n",
       "      <td>...</td>\n",
       "      <td>36</td>\n",
       "      <td>64</td>\n",
       "      <td>28</td>\n",
       "      <td>0.313725</td>\n",
       "      <td>0.140000</td>\n",
       "      <td>0.304386</td>\n",
       "      <td>0.863925</td>\n",
       "      <td>27</td>\n",
       "      <td>75</td>\n",
       "      <td>48</td>\n",
       "    </tr>\n",
       "    <tr>\n",
       "      <th>1</th>\n",
       "      <td>test_1</td>\n",
       "      <td>#Person2# got stuck in traffic again. #Person1...</td>\n",
       "      <td>#Person2# got stuck in traffic again. #Person1...</td>\n",
       "      <td>#Person2# got stuck in traffic again. #Person1...</td>\n",
       "      <td>0.361111</td>\n",
       "      <td>0.057143</td>\n",
       "      <td>0.376401</td>\n",
       "      <td>0.907797</td>\n",
       "      <td>22</td>\n",
       "      <td>49</td>\n",
       "      <td>...</td>\n",
       "      <td>18</td>\n",
       "      <td>35</td>\n",
       "      <td>17</td>\n",
       "      <td>0.384615</td>\n",
       "      <td>0.080000</td>\n",
       "      <td>0.377708</td>\n",
       "      <td>0.907712</td>\n",
       "      <td>17</td>\n",
       "      <td>35</td>\n",
       "      <td>18</td>\n",
       "    </tr>\n",
       "    <tr>\n",
       "      <th>2</th>\n",
       "      <td>test_2</td>\n",
       "      <td>#Person1# tells Kate Masha and Hero are gettin...</td>\n",
       "      <td>#Person1# tells Kate Masha and Hero are gettin...</td>\n",
       "      <td>#Person1# tells Kate Masha and Hero are gettin...</td>\n",
       "      <td>0.923077</td>\n",
       "      <td>0.756757</td>\n",
       "      <td>0.935516</td>\n",
       "      <td>0.976268</td>\n",
       "      <td>19</td>\n",
       "      <td>20</td>\n",
       "      <td>...</td>\n",
       "      <td>20</td>\n",
       "      <td>20</td>\n",
       "      <td>0</td>\n",
       "      <td>0.682927</td>\n",
       "      <td>0.358974</td>\n",
       "      <td>0.640040</td>\n",
       "      <td>0.941496</td>\n",
       "      <td>21</td>\n",
       "      <td>20</td>\n",
       "      <td>-1</td>\n",
       "    </tr>\n",
       "    <tr>\n",
       "      <th>3</th>\n",
       "      <td>test_3</td>\n",
       "      <td>#Person1# gives Brian a birthday party for him...</td>\n",
       "      <td>#Person1# gives Brian a birthday party for him...</td>\n",
       "      <td>#Person1# gives Brian a birthday party for him...</td>\n",
       "      <td>0.325581</td>\n",
       "      <td>0.048780</td>\n",
       "      <td>0.297108</td>\n",
       "      <td>0.896426</td>\n",
       "      <td>18</td>\n",
       "      <td>25</td>\n",
       "      <td>...</td>\n",
       "      <td>12</td>\n",
       "      <td>25</td>\n",
       "      <td>13</td>\n",
       "      <td>0.272727</td>\n",
       "      <td>0.047619</td>\n",
       "      <td>0.291308</td>\n",
       "      <td>0.900162</td>\n",
       "      <td>18</td>\n",
       "      <td>25</td>\n",
       "      <td>7</td>\n",
       "    </tr>\n",
       "    <tr>\n",
       "      <th>4</th>\n",
       "      <td>test_4</td>\n",
       "      <td>#Person1# and #Person2# are in the Olympic sta...</td>\n",
       "      <td>#Person1# and #Person2# are in the Olympic par...</td>\n",
       "      <td>#Person1# and #Person2# are in the Olympic sta...</td>\n",
       "      <td>0.363636</td>\n",
       "      <td>0.129032</td>\n",
       "      <td>0.370341</td>\n",
       "      <td>0.907939</td>\n",
       "      <td>13</td>\n",
       "      <td>19</td>\n",
       "      <td>...</td>\n",
       "      <td>12</td>\n",
       "      <td>27</td>\n",
       "      <td>15</td>\n",
       "      <td>0.363636</td>\n",
       "      <td>0.129032</td>\n",
       "      <td>0.370341</td>\n",
       "      <td>0.904505</td>\n",
       "      <td>13</td>\n",
       "      <td>19</td>\n",
       "      <td>6</td>\n",
       "    </tr>\n",
       "    <tr>\n",
       "      <th>...</th>\n",
       "      <td>...</td>\n",
       "      <td>...</td>\n",
       "      <td>...</td>\n",
       "      <td>...</td>\n",
       "      <td>...</td>\n",
       "      <td>...</td>\n",
       "      <td>...</td>\n",
       "      <td>...</td>\n",
       "      <td>...</td>\n",
       "      <td>...</td>\n",
       "      <td>...</td>\n",
       "      <td>...</td>\n",
       "      <td>...</td>\n",
       "      <td>...</td>\n",
       "      <td>...</td>\n",
       "      <td>...</td>\n",
       "      <td>...</td>\n",
       "      <td>...</td>\n",
       "      <td>...</td>\n",
       "      <td>...</td>\n",
       "      <td>...</td>\n",
       "    </tr>\n",
       "    <tr>\n",
       "      <th>495</th>\n",
       "      <td>test_495</td>\n",
       "      <td>Jack invites Charlie to his house to play a ne...</td>\n",
       "      <td>Jack invites Charlie to come to his house and ...</td>\n",
       "      <td>Jack invites Charlie to come to his house and ...</td>\n",
       "      <td>0.645161</td>\n",
       "      <td>0.551724</td>\n",
       "      <td>0.695312</td>\n",
       "      <td>0.943142</td>\n",
       "      <td>13</td>\n",
       "      <td>18</td>\n",
       "      <td>...</td>\n",
       "      <td>14</td>\n",
       "      <td>19</td>\n",
       "      <td>5</td>\n",
       "      <td>0.470588</td>\n",
       "      <td>0.187500</td>\n",
       "      <td>0.477852</td>\n",
       "      <td>0.921216</td>\n",
       "      <td>15</td>\n",
       "      <td>19</td>\n",
       "      <td>4</td>\n",
       "    </tr>\n",
       "    <tr>\n",
       "      <th>496</th>\n",
       "      <td>test_496</td>\n",
       "      <td>#Person2# tells #Person1# how #Person2 # got i...</td>\n",
       "      <td>#Person2# tells #Person1# how #Person2 # got i...</td>\n",
       "      <td>#Person2# tells #Person1# how #Person2 # got i...</td>\n",
       "      <td>0.685714</td>\n",
       "      <td>0.424242</td>\n",
       "      <td>0.730592</td>\n",
       "      <td>0.962334</td>\n",
       "      <td>16</td>\n",
       "      <td>20</td>\n",
       "      <td>...</td>\n",
       "      <td>15</td>\n",
       "      <td>20</td>\n",
       "      <td>5</td>\n",
       "      <td>0.340426</td>\n",
       "      <td>0.133333</td>\n",
       "      <td>0.365433</td>\n",
       "      <td>0.921195</td>\n",
       "      <td>27</td>\n",
       "      <td>20</td>\n",
       "      <td>-7</td>\n",
       "    </tr>\n",
       "    <tr>\n",
       "      <th>497</th>\n",
       "      <td>test_497</td>\n",
       "      <td>#Person1# asks Alice how to use the washing ma...</td>\n",
       "      <td>#Person1# asks Alice how to use the washing ma...</td>\n",
       "      <td>#Person1# asks Alice how to use the washing ma...</td>\n",
       "      <td>0.430380</td>\n",
       "      <td>0.129870</td>\n",
       "      <td>0.398069</td>\n",
       "      <td>0.894714</td>\n",
       "      <td>29</td>\n",
       "      <td>47</td>\n",
       "      <td>...</td>\n",
       "      <td>31</td>\n",
       "      <td>39</td>\n",
       "      <td>8</td>\n",
       "      <td>0.467532</td>\n",
       "      <td>0.293333</td>\n",
       "      <td>0.378570</td>\n",
       "      <td>0.902635</td>\n",
       "      <td>34</td>\n",
       "      <td>39</td>\n",
       "      <td>5</td>\n",
       "    </tr>\n",
       "    <tr>\n",
       "      <th>498</th>\n",
       "      <td>test_498</td>\n",
       "      <td>Steve tells Matthew he's looking for a place t...</td>\n",
       "      <td>Steve tells Matthew he's been looking for a pl...</td>\n",
       "      <td>Steve tells Matthew he's been looking for a pl...</td>\n",
       "      <td>0.412698</td>\n",
       "      <td>0.229508</td>\n",
       "      <td>0.484737</td>\n",
       "      <td>0.894851</td>\n",
       "      <td>17</td>\n",
       "      <td>42</td>\n",
       "      <td>...</td>\n",
       "      <td>28</td>\n",
       "      <td>35</td>\n",
       "      <td>7</td>\n",
       "      <td>0.435897</td>\n",
       "      <td>0.236842</td>\n",
       "      <td>0.428691</td>\n",
       "      <td>0.903670</td>\n",
       "      <td>27</td>\n",
       "      <td>47</td>\n",
       "      <td>20</td>\n",
       "    </tr>\n",
       "    <tr>\n",
       "      <th>499</th>\n",
       "      <td>test_499</td>\n",
       "      <td>Frank got a promotion and invites Betsy to his...</td>\n",
       "      <td>Frank invites Betsy to his promotion party on ...</td>\n",
       "      <td>Frank got a promotion and invites Betsy to his...</td>\n",
       "      <td>0.465116</td>\n",
       "      <td>0.097561</td>\n",
       "      <td>0.439556</td>\n",
       "      <td>0.924795</td>\n",
       "      <td>17</td>\n",
       "      <td>24</td>\n",
       "      <td>...</td>\n",
       "      <td>14</td>\n",
       "      <td>23</td>\n",
       "      <td>9</td>\n",
       "      <td>0.595745</td>\n",
       "      <td>0.311111</td>\n",
       "      <td>0.531366</td>\n",
       "      <td>0.928634</td>\n",
       "      <td>22</td>\n",
       "      <td>24</td>\n",
       "      <td>2</td>\n",
       "    </tr>\n",
       "  </tbody>\n",
       "</table>\n",
       "<p>500 rows × 25 columns</p>\n",
       "</div>"
      ],
      "text/plain": [
       "        fname                                       gen_summary1  \\\n",
       "0      test_0  #Person1# asks Ms. Dawson to take a dictation ...   \n",
       "1      test_1  #Person2# got stuck in traffic again. #Person1...   \n",
       "2      test_2  #Person1# tells Kate Masha and Hero are gettin...   \n",
       "3      test_3  #Person1# gives Brian a birthday party for him...   \n",
       "4      test_4  #Person1# and #Person2# are in the Olympic sta...   \n",
       "..        ...                                                ...   \n",
       "495  test_495  Jack invites Charlie to his house to play a ne...   \n",
       "496  test_496  #Person2# tells #Person1# how #Person2 # got i...   \n",
       "497  test_497  #Person1# asks Alice how to use the washing ma...   \n",
       "498  test_498  Steve tells Matthew he's looking for a place t...   \n",
       "499  test_499  Frank got a promotion and invites Betsy to his...   \n",
       "\n",
       "                                          gen_summary2  \\\n",
       "0    #Person1# asks Ms. Dawson to take a dictation ...   \n",
       "1    #Person2# got stuck in traffic again. #Person1...   \n",
       "2    #Person1# tells Kate Masha and Hero are gettin...   \n",
       "3    #Person1# gives Brian a birthday party for him...   \n",
       "4    #Person1# and #Person2# are in the Olympic par...   \n",
       "..                                                 ...   \n",
       "495  Jack invites Charlie to come to his house and ...   \n",
       "496  #Person2# tells #Person1# how #Person2 # got i...   \n",
       "497  #Person1# asks Alice how to use the washing ma...   \n",
       "498  Steve tells Matthew he's been looking for a pl...   \n",
       "499  Frank invites Betsy to his promotion party on ...   \n",
       "\n",
       "                                          gen_summary3  gen1_rouge_1  \\\n",
       "0    #Person1# asks Ms. Dawson to take adictation f...      0.310680   \n",
       "1    #Person2# got stuck in traffic again. #Person1...      0.361111   \n",
       "2    #Person1# tells Kate Masha and Hero are gettin...      0.923077   \n",
       "3    #Person1# gives Brian a birthday party for him...      0.325581   \n",
       "4    #Person1# and #Person2# are in the Olympic sta...      0.363636   \n",
       "..                                                 ...           ...   \n",
       "495  Jack invites Charlie to come to his house and ...      0.645161   \n",
       "496  #Person2# tells #Person1# how #Person2 # got i...      0.685714   \n",
       "497  #Person1# asks Alice how to use the washing ma...      0.430380   \n",
       "498  Steve tells Matthew he's been looking for a pl...      0.412698   \n",
       "499  Frank got a promotion and invites Betsy to his...      0.465116   \n",
       "\n",
       "     gen1_rouge_2  gen1_rouge_l  gen1_bert_score  gen1_gold_length  \\\n",
       "0        0.039604      0.280912         0.880892                27   \n",
       "1        0.057143      0.376401         0.907797                22   \n",
       "2        0.756757      0.935516         0.976268                19   \n",
       "3        0.048780      0.297108         0.896426                18   \n",
       "4        0.129032      0.370341         0.907939                13   \n",
       "..            ...           ...              ...               ...   \n",
       "495      0.551724      0.695312         0.943142                13   \n",
       "496      0.424242      0.730592         0.962334                16   \n",
       "497      0.129870      0.398069         0.894714                29   \n",
       "498      0.229508      0.484737         0.894851                17   \n",
       "499      0.097561      0.439556         0.924795                17   \n",
       "\n",
       "     gen1_gen_length  ...  gen2_gold_length  gen2_gen_length  \\\n",
       "0                 76  ...                36               64   \n",
       "1                 49  ...                18               35   \n",
       "2                 20  ...                20               20   \n",
       "3                 25  ...                12               25   \n",
       "4                 19  ...                12               27   \n",
       "..               ...  ...               ...              ...   \n",
       "495               18  ...                14               19   \n",
       "496               20  ...                15               20   \n",
       "497               47  ...                31               39   \n",
       "498               42  ...                28               35   \n",
       "499               24  ...                14               23   \n",
       "\n",
       "     gen2_diff_length  gen3_rouge_1  gen3_rouge_2  gen3_rouge_l  \\\n",
       "0                  28      0.313725      0.140000      0.304386   \n",
       "1                  17      0.384615      0.080000      0.377708   \n",
       "2                   0      0.682927      0.358974      0.640040   \n",
       "3                  13      0.272727      0.047619      0.291308   \n",
       "4                  15      0.363636      0.129032      0.370341   \n",
       "..                ...           ...           ...           ...   \n",
       "495                 5      0.470588      0.187500      0.477852   \n",
       "496                 5      0.340426      0.133333      0.365433   \n",
       "497                 8      0.467532      0.293333      0.378570   \n",
       "498                 7      0.435897      0.236842      0.428691   \n",
       "499                 9      0.595745      0.311111      0.531366   \n",
       "\n",
       "     gen3_bert_score  gen3_gold_length  gen3_gen_length  gen3_diff_length  \n",
       "0           0.863925                27               75                48  \n",
       "1           0.907712                17               35                18  \n",
       "2           0.941496                21               20                -1  \n",
       "3           0.900162                18               25                 7  \n",
       "4           0.904505                13               19                 6  \n",
       "..               ...               ...              ...               ...  \n",
       "495         0.921216                15               19                 4  \n",
       "496         0.921195                27               20                -7  \n",
       "497         0.902635                34               39                 5  \n",
       "498         0.903670                27               47                20  \n",
       "499         0.928634                22               24                 2  \n",
       "\n",
       "[500 rows x 25 columns]"
      ]
     },
     "execution_count": 25,
     "metadata": {},
     "output_type": "execute_result"
    }
   ],
   "source": [
    "result_all_df[15]"
   ]
  },
  {
   "cell_type": "code",
   "execution_count": 26,
   "id": "dbc6e378-8183-4ee9-8885-bc6c778845c7",
   "metadata": {},
   "outputs": [],
   "source": [
    "# result_all_df[1].to_excel(\"result.xlsx\",\n",
    "#              sheet_name='1')  \n",
    "result_all_df[15].to_excel(\"result_15_17.xlsx\",\n",
    "             sheet_name='15')  "
   ]
  },
  {
   "cell_type": "code",
   "execution_count": 27,
   "id": "36e1fac9-a7d0-430e-ba87-d99c0c11696a",
   "metadata": {},
   "outputs": [],
   "source": [
    "for i in range(16, total_method+1):\n",
    "    # with pd.ExcelWriter('result.xlsx',\n",
    "    #                     mode='a') as writer:  \n",
    "    #     result_all_df[i].to_excel(writer, sheet_name=f'{i}')\n",
    "    with pd.ExcelWriter('result_15_17.xlsx',\n",
    "                        mode='a') as writer:  \n",
    "        result_all_df[i].to_excel(writer, sheet_name=f'{i}')"
   ]
  },
  {
   "cell_type": "code",
   "execution_count": null,
   "id": "c8a84ac0",
   "metadata": {},
   "outputs": [],
   "source": [
    "num_example = 7\n",
    "gen_summary_num = 0\n",
    "\n",
    "list_gold_summary = ['summary1', 'summary2', 'summary3']\n",
    "list_gold_topic = ['topic1', 'topic2', 'topic3']\n",
    "list_gen_summary = ['gen_summary1', 'gen_summary2', 'gen_summary3']\n",
    "\n",
    "print(\"Gold Summary: \", gold_summary_df.loc[num_example, list_gold_summary[gen_summary_num]])\n",
    "print(\"Gold Topic: \", gold_summary_df.loc[num_example, list_gold_topic[gen_summary_num]])\n",
    "print(\"=\"*150)\n",
    "for num_method in list_method:\n",
    "    print(\"Experiment: \", name_method[num_method])\n",
    "    \n",
    "    # print(\"gen_summary1: \", result_all_df[num_method].loc[num_example, 'gen_summary1'])\n",
    "    # print(\"gen_summary2: \", result_all_df[num_method].loc[num_example, 'gen_summary2'])\n",
    "    # print(\"gen_summary3: \", result_all_df[num_method].loc[num_example, 'gen_summary3'])\n",
    "    # print(\"-\"*150)\n",
    "    \n",
    "    print(list_gen_summary[gen_summary_num], result_all_df[num_method].loc[num_example, list_gen_summary[gen_summary_num]])\n",
    "    print(\"-\"*100)"
   ]
  },
  {
   "cell_type": "code",
   "execution_count": null,
   "id": "2ab17dc7-b9d1-497f-a9ba-d368ae92e867",
   "metadata": {},
   "outputs": [],
   "source": []
  }
 ],
 "metadata": {
  "kernelspec": {
   "display_name": "Python 3 (ipykernel)",
   "language": "python",
   "name": "python3"
  },
  "language_info": {
   "codemirror_mode": {
    "name": "ipython",
    "version": 3
   },
   "file_extension": ".py",
   "mimetype": "text/x-python",
   "name": "python",
   "nbconvert_exporter": "python",
   "pygments_lexer": "ipython3",
   "version": "3.10.6"
  }
 },
 "nbformat": 4,
 "nbformat_minor": 5
}
